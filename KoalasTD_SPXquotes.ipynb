{
  "nbformat": 4,
  "nbformat_minor": 0,
  "metadata": {
    "colab": {
      "name": "KoalasTD-SPXquotes.ipynb",
      "provenance": [],
      "collapsed_sections": [],
      "include_colab_link": true
    },
    "kernelspec": {
      "display_name": "Python 3",
      "language": "python",
      "name": "python3"
    },
    "language_info": {
      "codemirror_mode": {
        "name": "ipython",
        "version": 3
      },
      "file_extension": ".py",
      "mimetype": "text/x-python",
      "name": "python",
      "nbconvert_exporter": "python",
      "pygments_lexer": "ipython3",
      "version": "3.7.6"
    }
  },
  "cells": [
    {
      "cell_type": "markdown",
      "metadata": {
        "id": "view-in-github",
        "colab_type": "text"
      },
      "source": [
        "<a href=\"https://colab.research.google.com/github/jus-tinian/vix_calc/blob/master/KoalasTD_SPXquotes.ipynb\" target=\"_parent\"><img src=\"https://colab.research.google.com/assets/colab-badge.svg\" alt=\"Open In Colab\"/></a>"
      ]
    },
    {
      "cell_type": "markdown",
      "metadata": {
        "id": "u9ngGvuamOR3",
        "colab_type": "text"
      },
      "source": [
        "## Create Working Env"
      ]
    },
    {
      "cell_type": "code",
      "metadata": {
        "id": "zoXMSz9jf4Sv",
        "colab_type": "code",
        "colab": {}
      },
      "source": [
        "!apt-get install openjdk-8-jdk-headless -qq > /dev/null\n",
        "!wget -q https://www-eu.apache.org/dist/spark/spark-2.4.5/spark-2.4.5-bin-hadoop2.7.tgz\n",
        "!tar xf spark-2.4.5-bin-hadoop2.7.tgz"
      ],
      "execution_count": 0,
      "outputs": []
    },
    {
      "cell_type": "code",
      "metadata": {
        "id": "Rguhjnml32DS",
        "colab_type": "code",
        "outputId": "7997eabc-538a-4201-b2cf-9cf313b23620",
        "colab": {
          "base_uri": "https://localhost:8080/",
          "height": 34
        }
      },
      "source": [
        "from google.colab import drive\n",
        "drive.mount('/content/drive')"
      ],
      "execution_count": 2,
      "outputs": [
        {
          "output_type": "stream",
          "text": [
            "Drive already mounted at /content/drive; to attempt to forcibly remount, call drive.mount(\"/content/drive\", force_remount=True).\n"
          ],
          "name": "stdout"
        }
      ]
    },
    {
      "cell_type": "code",
      "metadata": {
        "id": "E3hhknoIf632",
        "colab_type": "code",
        "colab": {}
      },
      "source": [
        "import os\n",
        "os.environ[\"JAVA_HOME\"] = \"/usr/lib/jvm/java-8-openjdk-amd64\"\n",
        "os.environ[\"SPARK_HOME\"] = \"/content/spark-2.4.5-bin-hadoop2.7\""
      ],
      "execution_count": 0,
      "outputs": []
    },
    {
      "cell_type": "code",
      "metadata": {
        "id": "LEjbsSwFf9Hr",
        "colab_type": "code",
        "colab": {}
      },
      "source": [
        "!pip install -q findspark\n",
        "!pip install -q pyspark"
      ],
      "execution_count": 0,
      "outputs": []
    },
    {
      "cell_type": "code",
      "metadata": {
        "id": "rPu6KHIzT90v",
        "colab_type": "code",
        "colab": {}
      },
      "source": [
        "!pip install -q koalas"
      ],
      "execution_count": 0,
      "outputs": []
    },
    {
      "cell_type": "markdown",
      "metadata": {
        "id": "jIFKuOkymkYj",
        "colab_type": "text"
      },
      "source": [
        "## Imports"
      ]
    },
    {
      "cell_type": "code",
      "metadata": {
        "colab_type": "code",
        "id": "bcOEBM6X0KbA",
        "colab": {}
      },
      "source": [
        "import requests\n",
        "import datetime\n",
        "\n",
        "import pyspark\n",
        "import databricks.koalas as ks\n",
        "\n",
        "from pyspark.sql import SparkSession"
      ],
      "execution_count": 0,
      "outputs": []
    },
    {
      "cell_type": "markdown",
      "metadata": {
        "id": "pnlcIWIGmn0t",
        "colab_type": "text"
      },
      "source": [
        "## Create Spark Session"
      ]
    },
    {
      "cell_type": "code",
      "metadata": {
        "id": "gTlXfqM1fruH",
        "colab_type": "code",
        "colab": {}
      },
      "source": [
        "APP_NAME = \"VIXcalc\"\n",
        "SPARK_URL = \"local[*]\""
      ],
      "execution_count": 0,
      "outputs": []
    },
    {
      "cell_type": "code",
      "metadata": {
        "id": "5VSC1JMrfruP",
        "colab_type": "code",
        "colab": {}
      },
      "source": [
        "spark = SparkSession.builder.master(SPARK_URL).appName(APP_NAME).getOrCreate()"
      ],
      "execution_count": 0,
      "outputs": []
    },
    {
      "cell_type": "code",
      "metadata": {
        "id": "g7iFLRfdgwi0",
        "colab_type": "code",
        "outputId": "e9d267bf-c954-4714-e597-ab1a84de9493",
        "colab": {
          "base_uri": "https://localhost:8080/",
          "height": 219
        }
      },
      "source": [
        "spark"
      ],
      "execution_count": 9,
      "outputs": [
        {
          "output_type": "execute_result",
          "data": {
            "text/html": [
              "\n",
              "            <div>\n",
              "                <p><b>SparkSession - in-memory</b></p>\n",
              "                \n",
              "        <div>\n",
              "            <p><b>SparkContext</b></p>\n",
              "\n",
              "            <p><a href=\"http://b310bd3276a2:4040\">Spark UI</a></p>\n",
              "\n",
              "            <dl>\n",
              "              <dt>Version</dt>\n",
              "                <dd><code>v2.4.5</code></dd>\n",
              "              <dt>Master</dt>\n",
              "                <dd><code>local[*]</code></dd>\n",
              "              <dt>AppName</dt>\n",
              "                <dd><code>VIXcalc</code></dd>\n",
              "            </dl>\n",
              "        </div>\n",
              "        \n",
              "            </div>\n",
              "        "
            ],
            "text/plain": [
              "<pyspark.sql.session.SparkSession at 0x7fdf4b41e1d0>"
            ]
          },
          "metadata": {
            "tags": []
          },
          "execution_count": 9
        }
      ]
    },
    {
      "cell_type": "markdown",
      "metadata": {
        "id": "5AUrKrZnfruU",
        "colab_type": "text"
      },
      "source": [
        "## Make Dates"
      ]
    },
    {
      "cell_type": "code",
      "metadata": {
        "colab_type": "code",
        "id": "AXWMFUO9fkqJ",
        "colab": {}
      },
      "source": [
        "today = datetime.datetime.today().date()"
      ],
      "execution_count": 0,
      "outputs": []
    },
    {
      "cell_type": "code",
      "metadata": {
        "colab_type": "code",
        "id": "vNSBbVSJfuJd",
        "colab": {}
      },
      "source": [
        "farDate = today + datetime.timedelta(days=37)"
      ],
      "execution_count": 0,
      "outputs": []
    },
    {
      "cell_type": "code",
      "metadata": {
        "colab_type": "code",
        "id": "XJqzYRl5gFVQ",
        "colab": {}
      },
      "source": [
        "nearDate = today + datetime.timedelta(days=23)"
      ],
      "execution_count": 0,
      "outputs": []
    },
    {
      "cell_type": "markdown",
      "metadata": {
        "id": "2jaELOkul5Dl",
        "colab_type": "text"
      },
      "source": [
        "## Get API response"
      ]
    },
    {
      "cell_type": "code",
      "metadata": {
        "id": "KE4VgHsYfruk",
        "colab_type": "code",
        "colab": {}
      },
      "source": [
        "# your key here\n",
        "KEY = 'your key here'"
      ],
      "execution_count": 0,
      "outputs": []
    },
    {
      "cell_type": "code",
      "metadata": {
        "colab_type": "code",
        "id": "BW9ECzPUxy6N",
        "colab": {}
      },
      "source": [
        "url = f\"https://api.tdameritrade.com/v1/marketdata/chains?apikey={KEY}&symbol=%24SPX.X&includeQuotes=TRUE&strategy=SINGLE&range=ALL&fromDate={str(nearDate)}&toDate={str(farDate)}\""
      ],
      "execution_count": 0,
      "outputs": []
    },
    {
      "cell_type": "code",
      "metadata": {
        "id": "cO_Z6H4Afrus",
        "colab_type": "code",
        "colab": {}
      },
      "source": [
        "req = requests.get(url)"
      ],
      "execution_count": 0,
      "outputs": []
    },
    {
      "cell_type": "code",
      "metadata": {
        "id": "maVj22rSfruw",
        "colab_type": "code",
        "colab": {}
      },
      "source": [
        "reqJSON = req.json()"
      ],
      "execution_count": 0,
      "outputs": []
    },
    {
      "cell_type": "markdown",
      "metadata": {
        "id": "iJbq4nVol9Gt",
        "colab_type": "text"
      },
      "source": [
        "## Set Keys to access reqJSON"
      ]
    },
    {
      "cell_type": "code",
      "metadata": {
        "id": "XH6Lv7ENfru0",
        "colab_type": "code",
        "colab": {}
      },
      "source": [
        "putKey = 'putExpDateMap'"
      ],
      "execution_count": 0,
      "outputs": []
    },
    {
      "cell_type": "code",
      "metadata": {
        "id": "8EvaQu2lfru5",
        "colab_type": "code",
        "colab": {}
      },
      "source": [
        "callKey = 'callExpDateMap'"
      ],
      "execution_count": 0,
      "outputs": []
    },
    {
      "cell_type": "code",
      "metadata": {
        "id": "LB6Hc7l6fru_",
        "colab_type": "code",
        "colab": {}
      },
      "source": [
        "dateKeys = [i for i in list(req.json()[putKey].keys()) if datetime.datetime.strptime(i[:-3], '%Y-%m-%d').weekday() == 4]"
      ],
      "execution_count": 0,
      "outputs": []
    },
    {
      "cell_type": "code",
      "metadata": {
        "id": "n50sBPCFfrvC",
        "colab_type": "code",
        "colab": {}
      },
      "source": [
        "nearKey = min(dateKeys)\n",
        "farKey = max(dateKeys)"
      ],
      "execution_count": 0,
      "outputs": []
    },
    {
      "cell_type": "markdown",
      "metadata": {
        "id": "73hxKztNmGbq",
        "colab_type": "text"
      },
      "source": [
        "## Set Interest Rate"
      ]
    },
    {
      "cell_type": "code",
      "metadata": {
        "id": "BbwnM3Xufru8",
        "colab_type": "code",
        "colab": {}
      },
      "source": [
        "RATE = reqJSON['interestRate']"
      ],
      "execution_count": 0,
      "outputs": []
    },
    {
      "cell_type": "markdown",
      "metadata": {
        "id": "g9dLeUtwCYXx",
        "colab_type": "text"
      },
      "source": [
        "## Prep Pipe NO TOUCH"
      ]
    },
    {
      "cell_type": "code",
      "metadata": {
        "id": "S-kFM4i8QSxM",
        "colab_type": "code",
        "colab": {}
      },
      "source": [
        "def from_json(jsonObj, sideKey, termKey):\n",
        "\n",
        "  ks.set_option('compute.ops_on_diff_frames', True)\n",
        "\n",
        "  # make list of strikes\n",
        "  strikesList = list(jsonObj[sideKey][termKey].keys())\n",
        "  \n",
        "  keep = ['strikePrice', 'symbol', 'putCall', 'bid', 'ask', 'expirationDate', 'inTheMoney']\n",
        "\n",
        "  source_dfs = [{k:v for k,v in reqJSON[sideKey][termKey][strike][0].items() if k in keep} for strike in strikesList]\n",
        "\n",
        "  # similar to for loop to append all DFs into single DF\n",
        "  source_df1 = ks.DataFrame(source_dfs)\n",
        "\n",
        "  source_df2 = source_df1.loc[source_df1['bid'] != 0, :]\n",
        "\n",
        "  standardCount = source_df2.loc[~source_df2['symbol'].str.contains('W'), :].shape[0]\n",
        "\n",
        "  if standardCount != 0:\n",
        "    source_df2 = source_df2.loc[~source_df2['symbol'].str.contains('W'), :]\n",
        "\n",
        "  source_df2['expiration'] = ks.to_datetime(termKey[:-3]).date()\n",
        "\n",
        "  source_df2 = source_df2.rename(columns={'expiration': 'expirationDate', 'expirationDate': 'expirationEpoch'})\n",
        "\n",
        "  return source_df2.set_index('strikePrice')"
      ],
      "execution_count": 0,
      "outputs": []
    },
    {
      "cell_type": "markdown",
      "metadata": {
        "id": "z3X8yzoCfrvJ",
        "colab_type": "text"
      },
      "source": [
        "# Near Puts"
      ]
    },
    {
      "cell_type": "code",
      "metadata": {
        "id": "FSscc5IdXXWg",
        "colab_type": "code",
        "colab": {}
      },
      "source": [
        "nearPuts = from_json(reqJSON, putKey, nearKey)"
      ],
      "execution_count": 0,
      "outputs": []
    },
    {
      "cell_type": "code",
      "metadata": {
        "id": "qAW3MXT_CiJk",
        "colab_type": "code",
        "colab": {
          "base_uri": "https://localhost:8080/",
          "height": 238
        },
        "outputId": "fb86e5fd-9836-4fc2-cf8f-cfb460114855"
      },
      "source": [
        "nearPuts.head()"
      ],
      "execution_count": 24,
      "outputs": [
        {
          "output_type": "execute_result",
          "data": {
            "text/html": [
              "<div>\n",
              "<style scoped>\n",
              "    .dataframe tbody tr th:only-of-type {\n",
              "        vertical-align: middle;\n",
              "    }\n",
              "\n",
              "    .dataframe tbody tr th {\n",
              "        vertical-align: top;\n",
              "    }\n",
              "\n",
              "    .dataframe thead th {\n",
              "        text-align: right;\n",
              "    }\n",
              "</style>\n",
              "<table border=\"1\" class=\"dataframe\">\n",
              "  <thead>\n",
              "    <tr style=\"text-align: right;\">\n",
              "      <th></th>\n",
              "      <th>putCall</th>\n",
              "      <th>symbol</th>\n",
              "      <th>bid</th>\n",
              "      <th>ask</th>\n",
              "      <th>expirationEpoch</th>\n",
              "      <th>inTheMoney</th>\n",
              "      <th>expirationDate</th>\n",
              "    </tr>\n",
              "    <tr>\n",
              "      <th>strikePrice</th>\n",
              "      <th></th>\n",
              "      <th></th>\n",
              "      <th></th>\n",
              "      <th></th>\n",
              "      <th></th>\n",
              "      <th></th>\n",
              "      <th></th>\n",
              "    </tr>\n",
              "  </thead>\n",
              "  <tbody>\n",
              "    <tr>\n",
              "      <th>1350.0</th>\n",
              "      <td>PUT</td>\n",
              "      <td>SPXW_061220P1350</td>\n",
              "      <td>0.10</td>\n",
              "      <td>0.15</td>\n",
              "      <td>1591992000000</td>\n",
              "      <td>False</td>\n",
              "      <td>2020-06-12</td>\n",
              "    </tr>\n",
              "    <tr>\n",
              "      <th>1500.0</th>\n",
              "      <td>PUT</td>\n",
              "      <td>SPXW_061220P1500</td>\n",
              "      <td>0.05</td>\n",
              "      <td>0.20</td>\n",
              "      <td>1591992000000</td>\n",
              "      <td>False</td>\n",
              "      <td>2020-06-12</td>\n",
              "    </tr>\n",
              "    <tr>\n",
              "      <th>1550.0</th>\n",
              "      <td>PUT</td>\n",
              "      <td>SPXW_061220P1550</td>\n",
              "      <td>0.05</td>\n",
              "      <td>0.25</td>\n",
              "      <td>1591992000000</td>\n",
              "      <td>False</td>\n",
              "      <td>2020-06-12</td>\n",
              "    </tr>\n",
              "    <tr>\n",
              "      <th>1600.0</th>\n",
              "      <td>PUT</td>\n",
              "      <td>SPXW_061220P1600</td>\n",
              "      <td>0.10</td>\n",
              "      <td>0.25</td>\n",
              "      <td>1591992000000</td>\n",
              "      <td>False</td>\n",
              "      <td>2020-06-12</td>\n",
              "    </tr>\n",
              "    <tr>\n",
              "      <th>1650.0</th>\n",
              "      <td>PUT</td>\n",
              "      <td>SPXW_061220P1650</td>\n",
              "      <td>0.10</td>\n",
              "      <td>0.30</td>\n",
              "      <td>1591992000000</td>\n",
              "      <td>False</td>\n",
              "      <td>2020-06-12</td>\n",
              "    </tr>\n",
              "  </tbody>\n",
              "</table>\n",
              "</div>"
            ],
            "text/plain": [
              "            putCall            symbol   bid   ask  expirationEpoch  inTheMoney expirationDate\n",
              "strikePrice                                                                                  \n",
              "1350.0          PUT  SPXW_061220P1350  0.10  0.15    1591992000000       False     2020-06-12\n",
              "1500.0          PUT  SPXW_061220P1500  0.05  0.20    1591992000000       False     2020-06-12\n",
              "1550.0          PUT  SPXW_061220P1550  0.05  0.25    1591992000000       False     2020-06-12\n",
              "1600.0          PUT  SPXW_061220P1600  0.10  0.25    1591992000000       False     2020-06-12\n",
              "1650.0          PUT  SPXW_061220P1650  0.10  0.30    1591992000000       False     2020-06-12"
            ]
          },
          "metadata": {
            "tags": []
          },
          "execution_count": 24
        }
      ]
    },
    {
      "cell_type": "markdown",
      "metadata": {
        "id": "cU83D4aFnFtt",
        "colab_type": "text"
      },
      "source": [
        "## Far Puts"
      ]
    },
    {
      "cell_type": "code",
      "metadata": {
        "id": "KA5eQALi_unB",
        "colab_type": "code",
        "colab": {}
      },
      "source": [
        "farPuts = from_json(reqJSON, putKey, farKey)"
      ],
      "execution_count": 0,
      "outputs": []
    },
    {
      "cell_type": "code",
      "metadata": {
        "id": "pT1gyn0aVmhV",
        "colab_type": "code",
        "colab": {
          "base_uri": "https://localhost:8080/",
          "height": 238
        },
        "outputId": "3f31b4e1-67d8-4f2e-ff05-adbbf6efc55c"
      },
      "source": [
        "farPuts.head()"
      ],
      "execution_count": 32,
      "outputs": [
        {
          "output_type": "execute_result",
          "data": {
            "text/html": [
              "<div>\n",
              "<style scoped>\n",
              "    .dataframe tbody tr th:only-of-type {\n",
              "        vertical-align: middle;\n",
              "    }\n",
              "\n",
              "    .dataframe tbody tr th {\n",
              "        vertical-align: top;\n",
              "    }\n",
              "\n",
              "    .dataframe thead th {\n",
              "        text-align: right;\n",
              "    }\n",
              "</style>\n",
              "<table border=\"1\" class=\"dataframe\">\n",
              "  <thead>\n",
              "    <tr style=\"text-align: right;\">\n",
              "      <th></th>\n",
              "      <th>putCall</th>\n",
              "      <th>symbol</th>\n",
              "      <th>bid</th>\n",
              "      <th>ask</th>\n",
              "      <th>expirationEpoch</th>\n",
              "      <th>inTheMoney</th>\n",
              "      <th>expirationDate</th>\n",
              "    </tr>\n",
              "    <tr>\n",
              "      <th>strikePrice</th>\n",
              "      <th></th>\n",
              "      <th></th>\n",
              "      <th></th>\n",
              "      <th></th>\n",
              "      <th></th>\n",
              "      <th></th>\n",
              "      <th></th>\n",
              "    </tr>\n",
              "  </thead>\n",
              "  <tbody>\n",
              "    <tr>\n",
              "      <th>900.0</th>\n",
              "      <td>PUT</td>\n",
              "      <td>SPX_061920P900</td>\n",
              "      <td>0.05</td>\n",
              "      <td>0.1</td>\n",
              "      <td>1592596800000</td>\n",
              "      <td>False</td>\n",
              "      <td>2020-06-19</td>\n",
              "    </tr>\n",
              "    <tr>\n",
              "      <th>1000.0</th>\n",
              "      <td>PUT</td>\n",
              "      <td>SPX_061920P1000</td>\n",
              "      <td>0.05</td>\n",
              "      <td>0.1</td>\n",
              "      <td>1592596800000</td>\n",
              "      <td>False</td>\n",
              "      <td>2020-06-19</td>\n",
              "    </tr>\n",
              "    <tr>\n",
              "      <th>1100.0</th>\n",
              "      <td>PUT</td>\n",
              "      <td>SPX_061920P1100</td>\n",
              "      <td>0.05</td>\n",
              "      <td>0.1</td>\n",
              "      <td>1592596800000</td>\n",
              "      <td>False</td>\n",
              "      <td>2020-06-19</td>\n",
              "    </tr>\n",
              "    <tr>\n",
              "      <th>1150.0</th>\n",
              "      <td>PUT</td>\n",
              "      <td>SPX_061920P1150</td>\n",
              "      <td>0.05</td>\n",
              "      <td>0.1</td>\n",
              "      <td>1592596800000</td>\n",
              "      <td>False</td>\n",
              "      <td>2020-06-19</td>\n",
              "    </tr>\n",
              "    <tr>\n",
              "      <th>1200.0</th>\n",
              "      <td>PUT</td>\n",
              "      <td>SPX_061920P1200</td>\n",
              "      <td>0.05</td>\n",
              "      <td>0.1</td>\n",
              "      <td>1592596800000</td>\n",
              "      <td>False</td>\n",
              "      <td>2020-06-19</td>\n",
              "    </tr>\n",
              "  </tbody>\n",
              "</table>\n",
              "</div>"
            ],
            "text/plain": [
              "            putCall           symbol   bid  ask  expirationEpoch  inTheMoney expirationDate\n",
              "strikePrice                                                                                \n",
              "900.0           PUT   SPX_061920P900  0.05  0.1    1592596800000       False     2020-06-19\n",
              "1000.0          PUT  SPX_061920P1000  0.05  0.1    1592596800000       False     2020-06-19\n",
              "1100.0          PUT  SPX_061920P1100  0.05  0.1    1592596800000       False     2020-06-19\n",
              "1150.0          PUT  SPX_061920P1150  0.05  0.1    1592596800000       False     2020-06-19\n",
              "1200.0          PUT  SPX_061920P1200  0.05  0.1    1592596800000       False     2020-06-19"
            ]
          },
          "metadata": {
            "tags": []
          },
          "execution_count": 32
        }
      ]
    },
    {
      "cell_type": "markdown",
      "metadata": {
        "colab_type": "text",
        "id": "H83ceGb0EcPd"
      },
      "source": [
        "# Near Calls"
      ]
    },
    {
      "cell_type": "code",
      "metadata": {
        "colab_type": "code",
        "id": "sLJoeegbEcP3",
        "colab": {}
      },
      "source": [
        "nearCalls = from_json(reqJSON, callKey, nearKey)"
      ],
      "execution_count": 0,
      "outputs": []
    },
    {
      "cell_type": "code",
      "metadata": {
        "id": "dKZNJY6i7xVz",
        "colab_type": "code",
        "colab": {
          "base_uri": "https://localhost:8080/",
          "height": 238
        },
        "outputId": "3ff0ecea-4fc4-414f-bfa0-a6e8895fb610"
      },
      "source": [
        "nearCalls.head()"
      ],
      "execution_count": 29,
      "outputs": [
        {
          "output_type": "execute_result",
          "data": {
            "text/html": [
              "<div>\n",
              "<style scoped>\n",
              "    .dataframe tbody tr th:only-of-type {\n",
              "        vertical-align: middle;\n",
              "    }\n",
              "\n",
              "    .dataframe tbody tr th {\n",
              "        vertical-align: top;\n",
              "    }\n",
              "\n",
              "    .dataframe thead th {\n",
              "        text-align: right;\n",
              "    }\n",
              "</style>\n",
              "<table border=\"1\" class=\"dataframe\">\n",
              "  <thead>\n",
              "    <tr style=\"text-align: right;\">\n",
              "      <th></th>\n",
              "      <th>putCall</th>\n",
              "      <th>symbol</th>\n",
              "      <th>bid</th>\n",
              "      <th>ask</th>\n",
              "      <th>expirationEpoch</th>\n",
              "      <th>inTheMoney</th>\n",
              "      <th>expirationDate</th>\n",
              "    </tr>\n",
              "    <tr>\n",
              "      <th>strikePrice</th>\n",
              "      <th></th>\n",
              "      <th></th>\n",
              "      <th></th>\n",
              "      <th></th>\n",
              "      <th></th>\n",
              "      <th></th>\n",
              "      <th></th>\n",
              "    </tr>\n",
              "  </thead>\n",
              "  <tbody>\n",
              "    <tr>\n",
              "      <th>500.0</th>\n",
              "      <td>CALL</td>\n",
              "      <td>SPXW_061220C500</td>\n",
              "      <td>2453.4</td>\n",
              "      <td>2471.8</td>\n",
              "      <td>1591992000000</td>\n",
              "      <td>True</td>\n",
              "      <td>2020-06-12</td>\n",
              "    </tr>\n",
              "    <tr>\n",
              "      <th>600.0</th>\n",
              "      <td>CALL</td>\n",
              "      <td>SPXW_061220C600</td>\n",
              "      <td>2352.1</td>\n",
              "      <td>2370.4</td>\n",
              "      <td>1591992000000</td>\n",
              "      <td>True</td>\n",
              "      <td>2020-06-12</td>\n",
              "    </tr>\n",
              "    <tr>\n",
              "      <th>700.0</th>\n",
              "      <td>CALL</td>\n",
              "      <td>SPXW_061220C700</td>\n",
              "      <td>2258.1</td>\n",
              "      <td>2264.9</td>\n",
              "      <td>1591992000000</td>\n",
              "      <td>True</td>\n",
              "      <td>2020-06-12</td>\n",
              "    </tr>\n",
              "    <tr>\n",
              "      <th>800.0</th>\n",
              "      <td>CALL</td>\n",
              "      <td>SPXW_061220C800</td>\n",
              "      <td>2158.1</td>\n",
              "      <td>2165.0</td>\n",
              "      <td>1591992000000</td>\n",
              "      <td>True</td>\n",
              "      <td>2020-06-12</td>\n",
              "    </tr>\n",
              "    <tr>\n",
              "      <th>900.0</th>\n",
              "      <td>CALL</td>\n",
              "      <td>SPXW_061220C900</td>\n",
              "      <td>2058.2</td>\n",
              "      <td>2065.0</td>\n",
              "      <td>1591992000000</td>\n",
              "      <td>True</td>\n",
              "      <td>2020-06-12</td>\n",
              "    </tr>\n",
              "  </tbody>\n",
              "</table>\n",
              "</div>"
            ],
            "text/plain": [
              "            putCall           symbol     bid     ask  expirationEpoch  inTheMoney expirationDate\n",
              "strikePrice                                                                                     \n",
              "500.0          CALL  SPXW_061220C500  2453.4  2471.8    1591992000000        True     2020-06-12\n",
              "600.0          CALL  SPXW_061220C600  2352.1  2370.4    1591992000000        True     2020-06-12\n",
              "700.0          CALL  SPXW_061220C700  2258.1  2264.9    1591992000000        True     2020-06-12\n",
              "800.0          CALL  SPXW_061220C800  2158.1  2165.0    1591992000000        True     2020-06-12\n",
              "900.0          CALL  SPXW_061220C900  2058.2  2065.0    1591992000000        True     2020-06-12"
            ]
          },
          "metadata": {
            "tags": []
          },
          "execution_count": 29
        }
      ]
    },
    {
      "cell_type": "markdown",
      "metadata": {
        "colab_type": "text",
        "id": "_7wi1fzcEcQA"
      },
      "source": [
        "## Far Calls"
      ]
    },
    {
      "cell_type": "code",
      "metadata": {
        "id": "Ww44ArqgRbjN",
        "colab_type": "code",
        "colab": {}
      },
      "source": [
        "farCalls = from_json(reqJSON, callKey, farKey)"
      ],
      "execution_count": 0,
      "outputs": []
    },
    {
      "cell_type": "code",
      "metadata": {
        "id": "PpvpTrN2Zz0E",
        "colab_type": "code",
        "outputId": "c534fbf9-daa7-41c8-ea80-d10f0b389b89",
        "colab": {
          "base_uri": "https://localhost:8080/",
          "height": 238
        }
      },
      "source": [
        "farCalls.head()"
      ],
      "execution_count": 31,
      "outputs": [
        {
          "output_type": "execute_result",
          "data": {
            "text/html": [
              "<div>\n",
              "<style scoped>\n",
              "    .dataframe tbody tr th:only-of-type {\n",
              "        vertical-align: middle;\n",
              "    }\n",
              "\n",
              "    .dataframe tbody tr th {\n",
              "        vertical-align: top;\n",
              "    }\n",
              "\n",
              "    .dataframe thead th {\n",
              "        text-align: right;\n",
              "    }\n",
              "</style>\n",
              "<table border=\"1\" class=\"dataframe\">\n",
              "  <thead>\n",
              "    <tr style=\"text-align: right;\">\n",
              "      <th></th>\n",
              "      <th>putCall</th>\n",
              "      <th>symbol</th>\n",
              "      <th>bid</th>\n",
              "      <th>ask</th>\n",
              "      <th>expirationEpoch</th>\n",
              "      <th>inTheMoney</th>\n",
              "      <th>expirationDate</th>\n",
              "    </tr>\n",
              "    <tr>\n",
              "      <th>strikePrice</th>\n",
              "      <th></th>\n",
              "      <th></th>\n",
              "      <th></th>\n",
              "      <th></th>\n",
              "      <th></th>\n",
              "      <th></th>\n",
              "      <th></th>\n",
              "    </tr>\n",
              "  </thead>\n",
              "  <tbody>\n",
              "    <tr>\n",
              "      <th>100.0</th>\n",
              "      <td>CALL</td>\n",
              "      <td>SPX_061920C100</td>\n",
              "      <td>2852.5</td>\n",
              "      <td>2869.2</td>\n",
              "      <td>1592596800000</td>\n",
              "      <td>True</td>\n",
              "      <td>2020-06-19</td>\n",
              "    </tr>\n",
              "    <tr>\n",
              "      <th>200.0</th>\n",
              "      <td>CALL</td>\n",
              "      <td>SPX_061920C200</td>\n",
              "      <td>2752.6</td>\n",
              "      <td>2769.3</td>\n",
              "      <td>1592596800000</td>\n",
              "      <td>True</td>\n",
              "      <td>2020-06-19</td>\n",
              "    </tr>\n",
              "    <tr>\n",
              "      <th>300.0</th>\n",
              "      <td>CALL</td>\n",
              "      <td>SPX_061920C300</td>\n",
              "      <td>2653.2</td>\n",
              "      <td>2669.5</td>\n",
              "      <td>1592596800000</td>\n",
              "      <td>True</td>\n",
              "      <td>2020-06-19</td>\n",
              "    </tr>\n",
              "    <tr>\n",
              "      <th>400.0</th>\n",
              "      <td>CALL</td>\n",
              "      <td>SPX_061920C400</td>\n",
              "      <td>2552.6</td>\n",
              "      <td>2569.3</td>\n",
              "      <td>1592596800000</td>\n",
              "      <td>True</td>\n",
              "      <td>2020-06-19</td>\n",
              "    </tr>\n",
              "    <tr>\n",
              "      <th>500.0</th>\n",
              "      <td>CALL</td>\n",
              "      <td>SPX_061920C500</td>\n",
              "      <td>2452.6</td>\n",
              "      <td>2469.3</td>\n",
              "      <td>1592596800000</td>\n",
              "      <td>True</td>\n",
              "      <td>2020-06-19</td>\n",
              "    </tr>\n",
              "  </tbody>\n",
              "</table>\n",
              "</div>"
            ],
            "text/plain": [
              "            putCall          symbol     bid     ask  expirationEpoch  inTheMoney expirationDate\n",
              "strikePrice                                                                                    \n",
              "100.0          CALL  SPX_061920C100  2852.5  2869.2    1592596800000        True     2020-06-19\n",
              "200.0          CALL  SPX_061920C200  2752.6  2769.3    1592596800000        True     2020-06-19\n",
              "300.0          CALL  SPX_061920C300  2653.2  2669.5    1592596800000        True     2020-06-19\n",
              "400.0          CALL  SPX_061920C400  2552.6  2569.3    1592596800000        True     2020-06-19\n",
              "500.0          CALL  SPX_061920C500  2452.6  2469.3    1592596800000        True     2020-06-19"
            ]
          },
          "metadata": {
            "tags": []
          },
          "execution_count": 31
        }
      ]
    }
  ]
}