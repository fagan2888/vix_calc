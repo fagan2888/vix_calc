{
  "nbformat": 4,
  "nbformat_minor": 0,
  "metadata": {
    "colab": {
      "name": "KoalasTD-SPXquotes.ipynb",
      "provenance": [],
      "collapsed_sections": [],
      "include_colab_link": true
    },
    "kernelspec": {
      "display_name": "Python 3",
      "language": "python",
      "name": "python3"
    },
    "language_info": {
      "codemirror_mode": {
        "name": "ipython",
        "version": 3
      },
      "file_extension": ".py",
      "mimetype": "text/x-python",
      "name": "python",
      "nbconvert_exporter": "python",
      "pygments_lexer": "ipython3",
      "version": "3.7.6"
    }
  },
  "cells": [
    {
      "cell_type": "markdown",
      "metadata": {
        "id": "view-in-github",
        "colab_type": "text"
      },
      "source": [
        "<a href=\"https://colab.research.google.com/github/jus-tinian/vix_calc/blob/master/KoalasTD_SPXquotes.ipynb\" target=\"_parent\"><img src=\"https://colab.research.google.com/assets/colab-badge.svg\" alt=\"Open In Colab\"/></a>"
      ]
    },
    {
      "cell_type": "markdown",
      "metadata": {
        "id": "u9ngGvuamOR3",
        "colab_type": "text"
      },
      "source": [
        "## Create Working Env"
      ]
    },
    {
      "cell_type": "code",
      "metadata": {
        "id": "zoXMSz9jf4Sv",
        "colab_type": "code",
        "colab": {}
      },
      "source": [
        "!apt-get install openjdk-8-jdk-headless -qq > /dev/null\n",
        "!wget -q https://www-eu.apache.org/dist/spark/spark-2.4.5/spark-2.4.5-bin-hadoop2.7.tgz\n",
        "!tar xf spark-2.4.5-bin-hadoop2.7.tgz"
      ],
      "execution_count": 0,
      "outputs": []
    },
    {
      "cell_type": "code",
      "metadata": {
        "id": "Rguhjnml32DS",
        "colab_type": "code",
        "outputId": "bdc86446-1c33-4912-ee0a-05bff84b0743",
        "colab": {
          "base_uri": "https://localhost:8080/",
          "height": 35
        }
      },
      "source": [
        "from google.colab import drive\n",
        "drive.mount('/content/drive')"
      ],
      "execution_count": 2,
      "outputs": [
        {
          "output_type": "stream",
          "text": [
            "Drive already mounted at /content/drive; to attempt to forcibly remount, call drive.mount(\"/content/drive\", force_remount=True).\n"
          ],
          "name": "stdout"
        }
      ]
    },
    {
      "cell_type": "code",
      "metadata": {
        "id": "E3hhknoIf632",
        "colab_type": "code",
        "colab": {}
      },
      "source": [
        "import os\n",
        "os.environ[\"JAVA_HOME\"] = \"/usr/lib/jvm/java-8-openjdk-amd64\"\n",
        "os.environ[\"SPARK_HOME\"] = \"/content/spark-2.4.5-bin-hadoop2.7\""
      ],
      "execution_count": 0,
      "outputs": []
    },
    {
      "cell_type": "code",
      "metadata": {
        "id": "LEjbsSwFf9Hr",
        "colab_type": "code",
        "colab": {}
      },
      "source": [
        "!pip install -q findspark\n",
        "!pip install -q pyspark"
      ],
      "execution_count": 0,
      "outputs": []
    },
    {
      "cell_type": "code",
      "metadata": {
        "id": "rPu6KHIzT90v",
        "colab_type": "code",
        "colab": {}
      },
      "source": [
        "!pip install -q koalas"
      ],
      "execution_count": 0,
      "outputs": []
    },
    {
      "cell_type": "markdown",
      "metadata": {
        "id": "jIFKuOkymkYj",
        "colab_type": "text"
      },
      "source": [
        "## Imports"
      ]
    },
    {
      "cell_type": "code",
      "metadata": {
        "colab_type": "code",
        "id": "bcOEBM6X0KbA",
        "colab": {}
      },
      "source": [
        "import requests\n",
        "import datetime\n",
        "\n",
        "import pyspark\n",
        "import databricks.koalas as ks\n",
        "\n",
        "from pyspark.sql import SparkSession"
      ],
      "execution_count": 0,
      "outputs": []
    },
    {
      "cell_type": "markdown",
      "metadata": {
        "id": "pnlcIWIGmn0t",
        "colab_type": "text"
      },
      "source": [
        "## Create Spark Session"
      ]
    },
    {
      "cell_type": "code",
      "metadata": {
        "id": "gTlXfqM1fruH",
        "colab_type": "code",
        "colab": {}
      },
      "source": [
        "APP_NAME = \"VIXcalc\"\n",
        "SPARK_URL = \"local[*]\""
      ],
      "execution_count": 0,
      "outputs": []
    },
    {
      "cell_type": "code",
      "metadata": {
        "id": "5VSC1JMrfruP",
        "colab_type": "code",
        "colab": {}
      },
      "source": [
        "spark = SparkSession.builder.master(SPARK_URL).appName(APP_NAME).getOrCreate()"
      ],
      "execution_count": 0,
      "outputs": []
    },
    {
      "cell_type": "code",
      "metadata": {
        "id": "g7iFLRfdgwi0",
        "colab_type": "code",
        "outputId": "2142bc0a-1bf1-43b4-ff8d-e01921ca9360",
        "colab": {
          "base_uri": "https://localhost:8080/",
          "height": 220
        }
      },
      "source": [
        "spark"
      ],
      "execution_count": 9,
      "outputs": [
        {
          "output_type": "execute_result",
          "data": {
            "text/html": [
              "\n",
              "            <div>\n",
              "                <p><b>SparkSession - in-memory</b></p>\n",
              "                \n",
              "        <div>\n",
              "            <p><b>SparkContext</b></p>\n",
              "\n",
              "            <p><a href=\"http://d06f721320ef:4040\">Spark UI</a></p>\n",
              "\n",
              "            <dl>\n",
              "              <dt>Version</dt>\n",
              "                <dd><code>v2.4.5</code></dd>\n",
              "              <dt>Master</dt>\n",
              "                <dd><code>local[*]</code></dd>\n",
              "              <dt>AppName</dt>\n",
              "                <dd><code>VIXcalc</code></dd>\n",
              "            </dl>\n",
              "        </div>\n",
              "        \n",
              "            </div>\n",
              "        "
            ],
            "text/plain": [
              "<pyspark.sql.session.SparkSession at 0x7fa7a459d7b8>"
            ]
          },
          "metadata": {
            "tags": []
          },
          "execution_count": 9
        }
      ]
    },
    {
      "cell_type": "markdown",
      "metadata": {
        "id": "2jaELOkul5Dl",
        "colab_type": "text"
      },
      "source": [
        "## Get API response"
      ]
    },
    {
      "cell_type": "code",
      "metadata": {
        "colab_type": "code",
        "id": "AXWMFUO9fkqJ",
        "colab": {}
      },
      "source": [
        "today = datetime.datetime.today().date()"
      ],
      "execution_count": 0,
      "outputs": []
    },
    {
      "cell_type": "code",
      "metadata": {
        "colab_type": "code",
        "id": "XJqzYRl5gFVQ",
        "colab": {}
      },
      "source": [
        "nearDate = today + datetime.timedelta(days=23)"
      ],
      "execution_count": 0,
      "outputs": []
    },
    {
      "cell_type": "code",
      "metadata": {
        "colab_type": "code",
        "id": "vNSBbVSJfuJd",
        "colab": {}
      },
      "source": [
        "farDate = today + datetime.timedelta(days=37)"
      ],
      "execution_count": 0,
      "outputs": []
    },
    {
      "cell_type": "code",
      "metadata": {
        "id": "KE4VgHsYfruk",
        "colab_type": "code",
        "colab": {}
      },
      "source": [
        "# your key here\n",
        "KEY = 'your key'"
      ],
      "execution_count": 0,
      "outputs": []
    },
    {
      "cell_type": "code",
      "metadata": {
        "id": "cO_Z6H4Afrus",
        "colab_type": "code",
        "colab": {}
      },
      "source": [
        "req = requests.get(f\"https://api.tdameritrade.com/v1/marketdata/chains?apikey={KEY}&symbol=%24SPX.X&includeQuotes=TRUE&strategy=SINGLE&range=ALL&fromDate={str(nearDate)}&toDate={str(farDate)}\")"
      ],
      "execution_count": 0,
      "outputs": []
    },
    {
      "cell_type": "markdown",
      "metadata": {
        "id": "73hxKztNmGbq",
        "colab_type": "text"
      },
      "source": [
        "## Set Interest Rate"
      ]
    },
    {
      "cell_type": "code",
      "metadata": {
        "id": "BbwnM3Xufru8",
        "colab_type": "code",
        "colab": {}
      },
      "source": [
        "RATE = req.json()['interestRate']"
      ],
      "execution_count": 0,
      "outputs": []
    },
    {
      "cell_type": "markdown",
      "metadata": {
        "id": "g9dLeUtwCYXx",
        "colab_type": "text"
      },
      "source": [
        "## Prep Pipe"
      ]
    },
    {
      "cell_type": "code",
      "metadata": {
        "id": "S-kFM4i8QSxM",
        "colab_type": "code",
        "colab": {}
      },
      "source": [
        "def from_json(jsonObj, sideKey, termKey):\n",
        "\n",
        "  # had to set to avoid error in if; elif\n",
        "  ks.set_option('compute.ops_on_diff_frames', True)\n",
        "\n",
        "  source_df1 = ks.DataFrame(\n",
        "      {\n",
        "       k:v for k,v in jsonObj[sideKey][termKey][strike][0].items() if k in\n",
        "       ['strikePrice', 'symbol', 'putCall', 'bid', 'ask', 'expirationDate', 'inTheMoney']\n",
        "      }\n",
        "       for strike in jsonObj[sideKey][termKey].keys()\n",
        "      )\n",
        "\n",
        "  source_df2 = source_df1.loc[source_df1['bid'] != 0, :]\n",
        "\n",
        "  standardCount = source_df2.loc[~source_df2['symbol'].str.contains('W'), :].shape[0]\n",
        "\n",
        "  # set to select standard expirations and adds time to expiration date\n",
        "  if standardCount != 0:\n",
        "    source_df2 = source_df2.loc[~source_df2['symbol'].str.contains('W'), :]\n",
        "    source_df2['expiration'] = ks.to_datetime(termKey[:-3]) + datetime.timedelta(hours=9.5)\n",
        "  \n",
        "  # handle weeklies if weeklies only\n",
        "  elif standardCount == 0:\n",
        "    source_df2['expiration'] = ks.to_datetime(termKey[:-3]) + datetime.timedelta(hours=16)\n",
        "\n",
        "  source_df2 = source_df2.rename(columns={'expiration': 'expirationDate', 'expirationDate': 'expirationEpoch'})\n",
        "\n",
        "  return source_df2"
      ],
      "execution_count": 0,
      "outputs": []
    },
    {
      "cell_type": "code",
      "metadata": {
        "id": "Azbe0S23uGXt",
        "colab_type": "code",
        "colab": {}
      },
      "source": [
        "def combineContracts(jsonObj, term='near'):\n",
        "\n",
        "  dateKeys = [i for i in list(jsonObj['putExpDateMap'].keys()) if datetime.datetime.strptime(i[:-3], '%Y-%m-%d').weekday() == 4]\n",
        "  termKey = min(dateKeys) if term.lower() == 'near' else max(dateKeys)\n",
        "\n",
        "  return from_json(jsonObj, 'putExpDateMap', termKey).append(from_json(jsonObj, 'callExpDateMap', termKey)).sort_values(by='strikePrice').set_index('strikePrice')"
      ],
      "execution_count": 0,
      "outputs": []
    },
    {
      "cell_type": "markdown",
      "metadata": {
        "id": "z3X8yzoCfrvJ",
        "colab_type": "text"
      },
      "source": [
        "# Near"
      ]
    },
    {
      "cell_type": "code",
      "metadata": {
        "id": "X0HSJFQCuFsu",
        "colab_type": "code",
        "colab": {}
      },
      "source": [
        "near = combineContracts(req.json(), 'near')"
      ],
      "execution_count": 0,
      "outputs": []
    },
    {
      "cell_type": "code",
      "metadata": {
        "id": "nNhBoRy9qmLn",
        "colab_type": "code",
        "colab": {
          "base_uri": "https://localhost:8080/",
          "height": 237
        },
        "outputId": "83784bd0-148d-4e08-c294-57c0340f48fc"
      },
      "source": [
        "near.head()"
      ],
      "execution_count": 24,
      "outputs": [
        {
          "output_type": "execute_result",
          "data": {
            "text/html": [
              "<div>\n",
              "<style scoped>\n",
              "    .dataframe tbody tr th:only-of-type {\n",
              "        vertical-align: middle;\n",
              "    }\n",
              "\n",
              "    .dataframe tbody tr th {\n",
              "        vertical-align: top;\n",
              "    }\n",
              "\n",
              "    .dataframe thead th {\n",
              "        text-align: right;\n",
              "    }\n",
              "</style>\n",
              "<table border=\"1\" class=\"dataframe\">\n",
              "  <thead>\n",
              "    <tr style=\"text-align: right;\">\n",
              "      <th></th>\n",
              "      <th>putCall</th>\n",
              "      <th>symbol</th>\n",
              "      <th>bid</th>\n",
              "      <th>ask</th>\n",
              "      <th>expirationEpoch</th>\n",
              "      <th>inTheMoney</th>\n",
              "      <th>expirationDate</th>\n",
              "    </tr>\n",
              "    <tr>\n",
              "      <th>strikePrice</th>\n",
              "      <th></th>\n",
              "      <th></th>\n",
              "      <th></th>\n",
              "      <th></th>\n",
              "      <th></th>\n",
              "      <th></th>\n",
              "      <th></th>\n",
              "    </tr>\n",
              "  </thead>\n",
              "  <tbody>\n",
              "    <tr>\n",
              "      <th>500.0</th>\n",
              "      <td>CALL</td>\n",
              "      <td>SPXW_061220C500</td>\n",
              "      <td>2443.2</td>\n",
              "      <td>2450.1</td>\n",
              "      <td>1591992000000</td>\n",
              "      <td>True</td>\n",
              "      <td>2020-06-12 16:00:00</td>\n",
              "    </tr>\n",
              "    <tr>\n",
              "      <th>600.0</th>\n",
              "      <td>CALL</td>\n",
              "      <td>SPXW_061220C600</td>\n",
              "      <td>2343.3</td>\n",
              "      <td>2350.2</td>\n",
              "      <td>1591992000000</td>\n",
              "      <td>True</td>\n",
              "      <td>2020-06-12 16:00:00</td>\n",
              "    </tr>\n",
              "    <tr>\n",
              "      <th>700.0</th>\n",
              "      <td>CALL</td>\n",
              "      <td>SPXW_061220C700</td>\n",
              "      <td>2243.3</td>\n",
              "      <td>2250.2</td>\n",
              "      <td>1591992000000</td>\n",
              "      <td>True</td>\n",
              "      <td>2020-06-12 16:00:00</td>\n",
              "    </tr>\n",
              "    <tr>\n",
              "      <th>800.0</th>\n",
              "      <td>CALL</td>\n",
              "      <td>SPXW_061220C800</td>\n",
              "      <td>2144.2</td>\n",
              "      <td>2150.2</td>\n",
              "      <td>1591992000000</td>\n",
              "      <td>True</td>\n",
              "      <td>2020-06-12 16:00:00</td>\n",
              "    </tr>\n",
              "    <tr>\n",
              "      <th>900.0</th>\n",
              "      <td>CALL</td>\n",
              "      <td>SPXW_061220C900</td>\n",
              "      <td>2044.2</td>\n",
              "      <td>2050.3</td>\n",
              "      <td>1591992000000</td>\n",
              "      <td>True</td>\n",
              "      <td>2020-06-12 16:00:00</td>\n",
              "    </tr>\n",
              "  </tbody>\n",
              "</table>\n",
              "</div>"
            ],
            "text/plain": [
              "            putCall           symbol     bid     ask  expirationEpoch  inTheMoney      expirationDate\n",
              "strikePrice                                                                                          \n",
              "500.0          CALL  SPXW_061220C500  2443.2  2450.1    1591992000000        True 2020-06-12 16:00:00\n",
              "600.0          CALL  SPXW_061220C600  2343.3  2350.2    1591992000000        True 2020-06-12 16:00:00\n",
              "700.0          CALL  SPXW_061220C700  2243.3  2250.2    1591992000000        True 2020-06-12 16:00:00\n",
              "800.0          CALL  SPXW_061220C800  2144.2  2150.2    1591992000000        True 2020-06-12 16:00:00\n",
              "900.0          CALL  SPXW_061220C900  2044.2  2050.3    1591992000000        True 2020-06-12 16:00:00"
            ]
          },
          "metadata": {
            "tags": []
          },
          "execution_count": 24
        }
      ]
    },
    {
      "cell_type": "markdown",
      "metadata": {
        "id": "cU83D4aFnFtt",
        "colab_type": "text"
      },
      "source": [
        "## Far"
      ]
    },
    {
      "cell_type": "code",
      "metadata": {
        "id": "KA5eQALi_unB",
        "colab_type": "code",
        "colab": {}
      },
      "source": [
        "far = combineContracts(req.json(), 'far')"
      ],
      "execution_count": 0,
      "outputs": []
    },
    {
      "cell_type": "code",
      "metadata": {
        "id": "jQWtOvfirEWD",
        "colab_type": "code",
        "colab": {
          "base_uri": "https://localhost:8080/",
          "height": 237
        },
        "outputId": "2f3702e8-6c5f-469e-90e8-985b25abb584"
      },
      "source": [
        "far.head()"
      ],
      "execution_count": 26,
      "outputs": [
        {
          "output_type": "execute_result",
          "data": {
            "text/html": [
              "<div>\n",
              "<style scoped>\n",
              "    .dataframe tbody tr th:only-of-type {\n",
              "        vertical-align: middle;\n",
              "    }\n",
              "\n",
              "    .dataframe tbody tr th {\n",
              "        vertical-align: top;\n",
              "    }\n",
              "\n",
              "    .dataframe thead th {\n",
              "        text-align: right;\n",
              "    }\n",
              "</style>\n",
              "<table border=\"1\" class=\"dataframe\">\n",
              "  <thead>\n",
              "    <tr style=\"text-align: right;\">\n",
              "      <th></th>\n",
              "      <th>putCall</th>\n",
              "      <th>symbol</th>\n",
              "      <th>bid</th>\n",
              "      <th>ask</th>\n",
              "      <th>expirationEpoch</th>\n",
              "      <th>inTheMoney</th>\n",
              "      <th>expirationDate</th>\n",
              "    </tr>\n",
              "    <tr>\n",
              "      <th>strikePrice</th>\n",
              "      <th></th>\n",
              "      <th></th>\n",
              "      <th></th>\n",
              "      <th></th>\n",
              "      <th></th>\n",
              "      <th></th>\n",
              "      <th></th>\n",
              "    </tr>\n",
              "  </thead>\n",
              "  <tbody>\n",
              "    <tr>\n",
              "      <th>100.0</th>\n",
              "      <td>CALL</td>\n",
              "      <td>SPX_061920C100</td>\n",
              "      <td>2844.6</td>\n",
              "      <td>2848.4</td>\n",
              "      <td>1592596800000</td>\n",
              "      <td>True</td>\n",
              "      <td>2020-06-19 09:30:00</td>\n",
              "    </tr>\n",
              "    <tr>\n",
              "      <th>200.0</th>\n",
              "      <td>CALL</td>\n",
              "      <td>SPX_061920C200</td>\n",
              "      <td>2744.7</td>\n",
              "      <td>2748.4</td>\n",
              "      <td>1592596800000</td>\n",
              "      <td>True</td>\n",
              "      <td>2020-06-19 09:30:00</td>\n",
              "    </tr>\n",
              "    <tr>\n",
              "      <th>300.0</th>\n",
              "      <td>CALL</td>\n",
              "      <td>SPX_061920C300</td>\n",
              "      <td>2644.7</td>\n",
              "      <td>2648.5</td>\n",
              "      <td>1592596800000</td>\n",
              "      <td>True</td>\n",
              "      <td>2020-06-19 09:30:00</td>\n",
              "    </tr>\n",
              "    <tr>\n",
              "      <th>400.0</th>\n",
              "      <td>CALL</td>\n",
              "      <td>SPX_061920C400</td>\n",
              "      <td>2544.7</td>\n",
              "      <td>2548.5</td>\n",
              "      <td>1592596800000</td>\n",
              "      <td>True</td>\n",
              "      <td>2020-06-19 09:30:00</td>\n",
              "    </tr>\n",
              "    <tr>\n",
              "      <th>500.0</th>\n",
              "      <td>CALL</td>\n",
              "      <td>SPX_061920C500</td>\n",
              "      <td>2444.8</td>\n",
              "      <td>2448.5</td>\n",
              "      <td>1592596800000</td>\n",
              "      <td>True</td>\n",
              "      <td>2020-06-19 09:30:00</td>\n",
              "    </tr>\n",
              "  </tbody>\n",
              "</table>\n",
              "</div>"
            ],
            "text/plain": [
              "            putCall          symbol     bid     ask  expirationEpoch  inTheMoney      expirationDate\n",
              "strikePrice                                                                                         \n",
              "100.0          CALL  SPX_061920C100  2844.6  2848.4    1592596800000        True 2020-06-19 09:30:00\n",
              "200.0          CALL  SPX_061920C200  2744.7  2748.4    1592596800000        True 2020-06-19 09:30:00\n",
              "300.0          CALL  SPX_061920C300  2644.7  2648.5    1592596800000        True 2020-06-19 09:30:00\n",
              "400.0          CALL  SPX_061920C400  2544.7  2548.5    1592596800000        True 2020-06-19 09:30:00\n",
              "500.0          CALL  SPX_061920C500  2444.8  2448.5    1592596800000        True 2020-06-19 09:30:00"
            ]
          },
          "metadata": {
            "tags": []
          },
          "execution_count": 26
        }
      ]
    }
  ]
}