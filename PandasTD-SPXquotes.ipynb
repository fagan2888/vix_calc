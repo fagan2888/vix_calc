{
 "cells": [
  {
   "cell_type": "code",
   "execution_count": 1,
   "metadata": {
    "colab": {},
    "colab_type": "code",
    "id": "bcOEBM6X0KbA"
   },
   "outputs": [],
   "source": [
    "import requests\n",
    "import datetime\n",
    "import os\n",
    "import pandas as pd"
   ]
  },
  {
   "cell_type": "code",
   "execution_count": 2,
   "metadata": {
    "colab": {
     "base_uri": "https://localhost:8080/",
     "height": 34
    },
    "colab_type": "code",
    "id": "AXWMFUO9fkqJ",
    "outputId": "325eb6c5-2f21-4b91-b899-fbac92a0a8b8"
   },
   "outputs": [
    {
     "data": {
      "text/plain": [
       "'2020-05-12'"
      ]
     },
     "execution_count": 2,
     "metadata": {},
     "output_type": "execute_result"
    }
   ],
   "source": [
    "today = datetime.datetime.today().date()\n",
    "str(today)"
   ]
  },
  {
   "cell_type": "code",
   "execution_count": 3,
   "metadata": {
    "colab": {
     "base_uri": "https://localhost:8080/",
     "height": 34
    },
    "colab_type": "code",
    "id": "vNSBbVSJfuJd",
    "outputId": "a5f66b9c-f76b-46cc-cbb4-e49e3369dd50"
   },
   "outputs": [
    {
     "data": {
      "text/plain": [
       "'2020-06-18'"
      ]
     },
     "execution_count": 3,
     "metadata": {},
     "output_type": "execute_result"
    }
   ],
   "source": [
    "farDate = today + datetime.timedelta(days=37)\n",
    "str(farDate)"
   ]
  },
  {
   "cell_type": "code",
   "execution_count": 4,
   "metadata": {
    "colab": {
     "base_uri": "https://localhost:8080/",
     "height": 34
    },
    "colab_type": "code",
    "id": "XJqzYRl5gFVQ",
    "outputId": "27269043-1eee-4679-cb81-74c90876b558"
   },
   "outputs": [
    {
     "data": {
      "text/plain": [
       "'2020-06-04'"
      ]
     },
     "execution_count": 4,
     "metadata": {},
     "output_type": "execute_result"
    }
   ],
   "source": [
    "nearDate = today + datetime.timedelta(days=23)\n",
    "str(nearDate)"
   ]
  },
  {
   "cell_type": "code",
   "execution_count": 5,
   "metadata": {},
   "outputs": [],
   "source": [
    "KEY = 'YOUR_KEY_HERE'"
   ]
  },
  {
   "cell_type": "code",
   "execution_count": 6,
   "metadata": {
    "colab": {},
    "colab_type": "code",
    "id": "BW9ECzPUxy6N"
   },
   "outputs": [],
   "source": [
    "url = f\"https://api.tdameritrade.com/v1/marketdata/chains?apikey={KEY}&symbol=%24SPX.X&includeQuotes=TRUE&strategy=SINGLE&range=ALL&fromDate={str(nearDate)}&toDate={str(farDate)}\""
   ]
  },
  {
   "cell_type": "code",
   "execution_count": 7,
   "metadata": {},
   "outputs": [],
   "source": [
    "req = requests.get(url)"
   ]
  },
  {
   "cell_type": "code",
   "execution_count": 8,
   "metadata": {},
   "outputs": [],
   "source": [
    "reqJSON = req.json()"
   ]
  },
  {
   "cell_type": "code",
   "execution_count": 9,
   "metadata": {},
   "outputs": [],
   "source": [
    "putKey = 'putExpDateMap'"
   ]
  },
  {
   "cell_type": "code",
   "execution_count": 10,
   "metadata": {},
   "outputs": [],
   "source": [
    "callKey = 'callExpDateMap'"
   ]
  },
  {
   "cell_type": "code",
   "execution_count": 11,
   "metadata": {},
   "outputs": [],
   "source": [
    "dateKeys = [i for i in list(req.json()[putKey].keys()) if pd.to_datetime(i[:-3]).dayofweek == 4]"
   ]
  },
  {
   "cell_type": "code",
   "execution_count": 12,
   "metadata": {},
   "outputs": [],
   "source": [
    "nearKey = min(dateKeys)\n",
    "farKey = max(dateKeys)"
   ]
  },
  {
   "cell_type": "code",
   "execution_count": 15,
   "metadata": {},
   "outputs": [],
   "source": [
    "minKeepCols = ['putCall', 'symbol', 'bid', 'ask', 'expirationDate', 'daysToExpiration', 'inTheMoney']"
   ]
  },
  {
   "cell_type": "markdown",
   "metadata": {},
   "source": [
    "near Puts"
   ]
  },
  {
   "cell_type": "code",
   "execution_count": 16,
   "metadata": {},
   "outputs": [],
   "source": [
    "nearPutMinStrikeKey = list(reqJSON[putKey][nearKey].keys())[0]"
   ]
  },
  {
   "cell_type": "code",
   "execution_count": 17,
   "metadata": {},
   "outputs": [],
   "source": [
    "nearPutStrikes = list(reqJSON[putKey][nearKey].keys())[1:]"
   ]
  },
  {
   "cell_type": "code",
   "execution_count": 18,
   "metadata": {},
   "outputs": [],
   "source": [
    "nearPuts = pd.DataFrame(reqJSON[putKey][nearKey][nearPutMinStrikeKey])"
   ]
  },
  {
   "cell_type": "code",
   "execution_count": 19,
   "metadata": {},
   "outputs": [],
   "source": [
    "for idx, val in enumerate(nearPutStrikes):\n",
    "    \n",
    "    nearPuts = nearPuts.append(pd.DataFrame(pd.DataFrame(reqJSON[putKey][nearKey][nearPutStrikes[idx]])))"
   ]
  },
  {
   "cell_type": "code",
   "execution_count": 20,
   "metadata": {},
   "outputs": [],
   "source": [
    "nearPuts = nearPuts.loc[nearPuts['bid'] != 0, :]"
   ]
  },
  {
   "cell_type": "code",
   "execution_count": 21,
   "metadata": {},
   "outputs": [],
   "source": [
    "nearPuts = nearPuts.set_index('strikePrice')"
   ]
  },
  {
   "cell_type": "code",
   "execution_count": 22,
   "metadata": {},
   "outputs": [],
   "source": [
    "nearPuts = nearPuts[minKeepCols]"
   ]
  },
  {
   "cell_type": "code",
   "execution_count": 23,
   "metadata": {},
   "outputs": [],
   "source": [
    "nearPuts['expirationDate'] = pd.to_datetime(nearPuts.expirationDate.values, unit='ms').date"
   ]
  },
  {
   "cell_type": "markdown",
   "metadata": {},
   "source": [
    "far Puts"
   ]
  },
  {
   "cell_type": "code",
   "execution_count": 24,
   "metadata": {},
   "outputs": [],
   "source": [
    "farPutMinStrikeKey = list(reqJSON[putKey][farKey].keys())[0]"
   ]
  },
  {
   "cell_type": "code",
   "execution_count": 25,
   "metadata": {},
   "outputs": [],
   "source": [
    "farPutStrikes = list(reqJSON[putKey][farKey].keys())[1:]"
   ]
  },
  {
   "cell_type": "code",
   "execution_count": 26,
   "metadata": {},
   "outputs": [],
   "source": [
    "farPuts = pd.DataFrame(reqJSON[putKey][nearKey][farPutMinStrikeKey])"
   ]
  },
  {
   "cell_type": "code",
   "execution_count": 27,
   "metadata": {},
   "outputs": [],
   "source": [
    "for idx, val in enumerate(farPutStrikes):\n",
    "    \n",
    "    farPuts = farPuts.append(pd.DataFrame(pd.DataFrame(reqJSON[putKey][farKey][farPutStrikes[idx]])))"
   ]
  },
  {
   "cell_type": "code",
   "execution_count": 28,
   "metadata": {},
   "outputs": [],
   "source": [
    "farPuts = farPuts.loc[farPuts['bid'] != 0, :]"
   ]
  },
  {
   "cell_type": "code",
   "execution_count": 29,
   "metadata": {},
   "outputs": [],
   "source": [
    "farPuts = farPuts.set_index('strikePrice')"
   ]
  },
  {
   "cell_type": "code",
   "execution_count": 30,
   "metadata": {},
   "outputs": [],
   "source": [
    "farPuts = farPuts[minKeepCols]"
   ]
  },
  {
   "cell_type": "code",
   "execution_count": 31,
   "metadata": {},
   "outputs": [],
   "source": [
    "farPuts['expirationDate'] = pd.to_datetime(farPuts.expirationDate.values, unit='ms').date"
   ]
  },
  {
   "cell_type": "markdown",
   "metadata": {},
   "source": [
    "near Calls"
   ]
  },
  {
   "cell_type": "code",
   "execution_count": 32,
   "metadata": {},
   "outputs": [],
   "source": [
    "nearCallMinStrikeKey = list(reqJSON[callKey][nearKey].keys())[0]"
   ]
  },
  {
   "cell_type": "code",
   "execution_count": 33,
   "metadata": {},
   "outputs": [],
   "source": [
    "nearCallStrikes = list(reqJSON[callKey][nearKey].keys())[1:]"
   ]
  },
  {
   "cell_type": "code",
   "execution_count": 34,
   "metadata": {},
   "outputs": [],
   "source": [
    "nearCalls = pd.DataFrame(reqJSON[callKey][nearKey][nearCallMinStrikeKey])"
   ]
  },
  {
   "cell_type": "code",
   "execution_count": 35,
   "metadata": {},
   "outputs": [],
   "source": [
    "for idx, val in enumerate(nearCallStrikes):\n",
    "    \n",
    "    nearCalls = nearCalls.append(pd.DataFrame(pd.DataFrame(reqJSON[callKey][nearKey][nearCallStrikes[idx]])))"
   ]
  },
  {
   "cell_type": "code",
   "execution_count": 36,
   "metadata": {},
   "outputs": [],
   "source": [
    "nearCalls = nearCalls.loc[nearCalls['bid'] != 0, :]"
   ]
  },
  {
   "cell_type": "code",
   "execution_count": 37,
   "metadata": {},
   "outputs": [],
   "source": [
    "nearCalls = nearCalls.set_index('strikePrice')"
   ]
  },
  {
   "cell_type": "code",
   "execution_count": 38,
   "metadata": {},
   "outputs": [],
   "source": [
    "nearCalls = nearCalls[minKeepCols]"
   ]
  },
  {
   "cell_type": "code",
   "execution_count": 39,
   "metadata": {},
   "outputs": [],
   "source": [
    "nearCalls['expirationDate'] = pd.to_datetime(nearCalls.expirationDate.values, unit='ms').date"
   ]
  },
  {
   "cell_type": "markdown",
   "metadata": {},
   "source": [
    "far Calls"
   ]
  },
  {
   "cell_type": "code",
   "execution_count": 40,
   "metadata": {},
   "outputs": [],
   "source": [
    "farCallMinStrikeKey = list(reqJSON[putKey][farKey].keys())[0]"
   ]
  },
  {
   "cell_type": "code",
   "execution_count": 41,
   "metadata": {},
   "outputs": [],
   "source": [
    "farCallStrikes = list(reqJSON[putKey][farKey].keys())[1:]"
   ]
  },
  {
   "cell_type": "code",
   "execution_count": 42,
   "metadata": {},
   "outputs": [],
   "source": [
    "farCalls = pd.DataFrame(reqJSON[putKey][nearKey][farCallMinStrikeKey])"
   ]
  },
  {
   "cell_type": "code",
   "execution_count": 43,
   "metadata": {},
   "outputs": [],
   "source": [
    "for idx, val in enumerate(farCallStrikes):\n",
    "    \n",
    "    farCalls = farCalls.append(pd.DataFrame(pd.DataFrame(reqJSON[callKey][farKey][farCallStrikes[idx]])))"
   ]
  },
  {
   "cell_type": "code",
   "execution_count": 44,
   "metadata": {},
   "outputs": [],
   "source": [
    "farCalls = farCalls.loc[farCalls['bid'] != 0, :]"
   ]
  },
  {
   "cell_type": "code",
   "execution_count": 45,
   "metadata": {},
   "outputs": [],
   "source": [
    "farCalls = farCalls.set_index('strikePrice')"
   ]
  },
  {
   "cell_type": "code",
   "execution_count": 46,
   "metadata": {},
   "outputs": [],
   "source": [
    "farCalls = farCalls[minKeepCols]"
   ]
  },
  {
   "cell_type": "code",
   "execution_count": 47,
   "metadata": {},
   "outputs": [],
   "source": [
    "farCalls['expirationDate'] = pd.to_datetime(farCalls.expirationDate.values, unit='ms').date"
   ]
  },
  {
   "cell_type": "code",
   "execution_count": 48,
   "metadata": {},
   "outputs": [
    {
     "data": {
      "text/html": [
       "<div>\n",
       "<style scoped>\n",
       "    .dataframe tbody tr th:only-of-type {\n",
       "        vertical-align: middle;\n",
       "    }\n",
       "\n",
       "    .dataframe tbody tr th {\n",
       "        vertical-align: top;\n",
       "    }\n",
       "\n",
       "    .dataframe thead th {\n",
       "        text-align: right;\n",
       "    }\n",
       "</style>\n",
       "<table border=\"1\" class=\"dataframe\">\n",
       "  <thead>\n",
       "    <tr style=\"text-align: right;\">\n",
       "      <th></th>\n",
       "      <th>putCall</th>\n",
       "      <th>symbol</th>\n",
       "      <th>bid</th>\n",
       "      <th>ask</th>\n",
       "      <th>expirationDate</th>\n",
       "      <th>daysToExpiration</th>\n",
       "      <th>inTheMoney</th>\n",
       "    </tr>\n",
       "    <tr>\n",
       "      <th>strikePrice</th>\n",
       "      <th></th>\n",
       "      <th></th>\n",
       "      <th></th>\n",
       "      <th></th>\n",
       "      <th></th>\n",
       "      <th></th>\n",
       "      <th></th>\n",
       "    </tr>\n",
       "  </thead>\n",
       "  <tbody>\n",
       "    <tr>\n",
       "      <th>1500.0</th>\n",
       "      <td>PUT</td>\n",
       "      <td>SPXW_060520P1500</td>\n",
       "      <td>0.05</td>\n",
       "      <td>0.25</td>\n",
       "      <td>2020-06-05</td>\n",
       "      <td>24</td>\n",
       "      <td>False</td>\n",
       "    </tr>\n",
       "    <tr>\n",
       "      <th>1550.0</th>\n",
       "      <td>PUT</td>\n",
       "      <td>SPXW_060520P1550</td>\n",
       "      <td>0.10</td>\n",
       "      <td>0.30</td>\n",
       "      <td>2020-06-05</td>\n",
       "      <td>24</td>\n",
       "      <td>False</td>\n",
       "    </tr>\n",
       "    <tr>\n",
       "      <th>1600.0</th>\n",
       "      <td>PUT</td>\n",
       "      <td>SPXW_060520P1600</td>\n",
       "      <td>0.10</td>\n",
       "      <td>0.35</td>\n",
       "      <td>2020-06-05</td>\n",
       "      <td>24</td>\n",
       "      <td>False</td>\n",
       "    </tr>\n",
       "    <tr>\n",
       "      <th>1650.0</th>\n",
       "      <td>PUT</td>\n",
       "      <td>SPXW_060520P1650</td>\n",
       "      <td>0.15</td>\n",
       "      <td>0.40</td>\n",
       "      <td>2020-06-05</td>\n",
       "      <td>24</td>\n",
       "      <td>False</td>\n",
       "    </tr>\n",
       "    <tr>\n",
       "      <th>1700.0</th>\n",
       "      <td>PUT</td>\n",
       "      <td>SPXW_060520P1700</td>\n",
       "      <td>0.20</td>\n",
       "      <td>0.45</td>\n",
       "      <td>2020-06-05</td>\n",
       "      <td>24</td>\n",
       "      <td>False</td>\n",
       "    </tr>\n",
       "  </tbody>\n",
       "</table>\n",
       "</div>"
      ],
      "text/plain": [
       "            putCall            symbol   bid   ask expirationDate  \\\n",
       "strikePrice                                                        \n",
       "1500.0          PUT  SPXW_060520P1500  0.05  0.25     2020-06-05   \n",
       "1550.0          PUT  SPXW_060520P1550  0.10  0.30     2020-06-05   \n",
       "1600.0          PUT  SPXW_060520P1600  0.10  0.35     2020-06-05   \n",
       "1650.0          PUT  SPXW_060520P1650  0.15  0.40     2020-06-05   \n",
       "1700.0          PUT  SPXW_060520P1700  0.20  0.45     2020-06-05   \n",
       "\n",
       "             daysToExpiration  inTheMoney  \n",
       "strikePrice                                \n",
       "1500.0                     24       False  \n",
       "1550.0                     24       False  \n",
       "1600.0                     24       False  \n",
       "1650.0                     24       False  \n",
       "1700.0                     24       False  "
      ]
     },
     "execution_count": 48,
     "metadata": {},
     "output_type": "execute_result"
    }
   ],
   "source": [
    "nearPuts.head()"
   ]
  },
  {
   "cell_type": "code",
   "execution_count": 49,
   "metadata": {},
   "outputs": [
    {
     "data": {
      "text/html": [
       "<div>\n",
       "<style scoped>\n",
       "    .dataframe tbody tr th:only-of-type {\n",
       "        vertical-align: middle;\n",
       "    }\n",
       "\n",
       "    .dataframe tbody tr th {\n",
       "        vertical-align: top;\n",
       "    }\n",
       "\n",
       "    .dataframe thead th {\n",
       "        text-align: right;\n",
       "    }\n",
       "</style>\n",
       "<table border=\"1\" class=\"dataframe\">\n",
       "  <thead>\n",
       "    <tr style=\"text-align: right;\">\n",
       "      <th></th>\n",
       "      <th>putCall</th>\n",
       "      <th>symbol</th>\n",
       "      <th>bid</th>\n",
       "      <th>ask</th>\n",
       "      <th>expirationDate</th>\n",
       "      <th>daysToExpiration</th>\n",
       "      <th>inTheMoney</th>\n",
       "    </tr>\n",
       "    <tr>\n",
       "      <th>strikePrice</th>\n",
       "      <th></th>\n",
       "      <th></th>\n",
       "      <th></th>\n",
       "      <th></th>\n",
       "      <th></th>\n",
       "      <th></th>\n",
       "      <th></th>\n",
       "    </tr>\n",
       "  </thead>\n",
       "  <tbody>\n",
       "    <tr>\n",
       "      <th>1200.0</th>\n",
       "      <td>PUT</td>\n",
       "      <td>SPXW_061220P1200</td>\n",
       "      <td>0.05</td>\n",
       "      <td>0.20</td>\n",
       "      <td>2020-06-12</td>\n",
       "      <td>31</td>\n",
       "      <td>False</td>\n",
       "    </tr>\n",
       "    <tr>\n",
       "      <th>1250.0</th>\n",
       "      <td>PUT</td>\n",
       "      <td>SPXW_061220P1250</td>\n",
       "      <td>0.05</td>\n",
       "      <td>0.20</td>\n",
       "      <td>2020-06-12</td>\n",
       "      <td>31</td>\n",
       "      <td>False</td>\n",
       "    </tr>\n",
       "    <tr>\n",
       "      <th>1300.0</th>\n",
       "      <td>PUT</td>\n",
       "      <td>SPXW_061220P1300</td>\n",
       "      <td>0.05</td>\n",
       "      <td>0.25</td>\n",
       "      <td>2020-06-12</td>\n",
       "      <td>31</td>\n",
       "      <td>False</td>\n",
       "    </tr>\n",
       "    <tr>\n",
       "      <th>1350.0</th>\n",
       "      <td>PUT</td>\n",
       "      <td>SPXW_061220P1350</td>\n",
       "      <td>0.10</td>\n",
       "      <td>0.25</td>\n",
       "      <td>2020-06-12</td>\n",
       "      <td>31</td>\n",
       "      <td>False</td>\n",
       "    </tr>\n",
       "    <tr>\n",
       "      <th>1400.0</th>\n",
       "      <td>PUT</td>\n",
       "      <td>SPXW_061220P1400</td>\n",
       "      <td>0.10</td>\n",
       "      <td>0.30</td>\n",
       "      <td>2020-06-12</td>\n",
       "      <td>31</td>\n",
       "      <td>False</td>\n",
       "    </tr>\n",
       "  </tbody>\n",
       "</table>\n",
       "</div>"
      ],
      "text/plain": [
       "            putCall            symbol   bid   ask expirationDate  \\\n",
       "strikePrice                                                        \n",
       "1200.0          PUT  SPXW_061220P1200  0.05  0.20     2020-06-12   \n",
       "1250.0          PUT  SPXW_061220P1250  0.05  0.20     2020-06-12   \n",
       "1300.0          PUT  SPXW_061220P1300  0.05  0.25     2020-06-12   \n",
       "1350.0          PUT  SPXW_061220P1350  0.10  0.25     2020-06-12   \n",
       "1400.0          PUT  SPXW_061220P1400  0.10  0.30     2020-06-12   \n",
       "\n",
       "             daysToExpiration  inTheMoney  \n",
       "strikePrice                                \n",
       "1200.0                     31       False  \n",
       "1250.0                     31       False  \n",
       "1300.0                     31       False  \n",
       "1350.0                     31       False  \n",
       "1400.0                     31       False  "
      ]
     },
     "execution_count": 49,
     "metadata": {},
     "output_type": "execute_result"
    }
   ],
   "source": [
    "farPuts.head()"
   ]
  },
  {
   "cell_type": "code",
   "execution_count": 50,
   "metadata": {},
   "outputs": [
    {
     "data": {
      "text/html": [
       "<div>\n",
       "<style scoped>\n",
       "    .dataframe tbody tr th:only-of-type {\n",
       "        vertical-align: middle;\n",
       "    }\n",
       "\n",
       "    .dataframe tbody tr th {\n",
       "        vertical-align: top;\n",
       "    }\n",
       "\n",
       "    .dataframe thead th {\n",
       "        text-align: right;\n",
       "    }\n",
       "</style>\n",
       "<table border=\"1\" class=\"dataframe\">\n",
       "  <thead>\n",
       "    <tr style=\"text-align: right;\">\n",
       "      <th></th>\n",
       "      <th>putCall</th>\n",
       "      <th>symbol</th>\n",
       "      <th>bid</th>\n",
       "      <th>ask</th>\n",
       "      <th>expirationDate</th>\n",
       "      <th>daysToExpiration</th>\n",
       "      <th>inTheMoney</th>\n",
       "    </tr>\n",
       "    <tr>\n",
       "      <th>strikePrice</th>\n",
       "      <th></th>\n",
       "      <th></th>\n",
       "      <th></th>\n",
       "      <th></th>\n",
       "      <th></th>\n",
       "      <th></th>\n",
       "      <th></th>\n",
       "    </tr>\n",
       "  </thead>\n",
       "  <tbody>\n",
       "    <tr>\n",
       "      <th>500.0</th>\n",
       "      <td>CALL</td>\n",
       "      <td>SPXW_060520C500</td>\n",
       "      <td>2350.7</td>\n",
       "      <td>2357.0</td>\n",
       "      <td>2020-06-05</td>\n",
       "      <td>24</td>\n",
       "      <td>True</td>\n",
       "    </tr>\n",
       "    <tr>\n",
       "      <th>600.0</th>\n",
       "      <td>CALL</td>\n",
       "      <td>SPXW_060520C600</td>\n",
       "      <td>2250.7</td>\n",
       "      <td>2256.9</td>\n",
       "      <td>2020-06-05</td>\n",
       "      <td>24</td>\n",
       "      <td>True</td>\n",
       "    </tr>\n",
       "    <tr>\n",
       "      <th>700.0</th>\n",
       "      <td>CALL</td>\n",
       "      <td>SPXW_060520C700</td>\n",
       "      <td>2150.8</td>\n",
       "      <td>2157.1</td>\n",
       "      <td>2020-06-05</td>\n",
       "      <td>24</td>\n",
       "      <td>True</td>\n",
       "    </tr>\n",
       "    <tr>\n",
       "      <th>800.0</th>\n",
       "      <td>CALL</td>\n",
       "      <td>SPXW_060520C800</td>\n",
       "      <td>2050.8</td>\n",
       "      <td>2057.0</td>\n",
       "      <td>2020-06-05</td>\n",
       "      <td>24</td>\n",
       "      <td>True</td>\n",
       "    </tr>\n",
       "    <tr>\n",
       "      <th>900.0</th>\n",
       "      <td>CALL</td>\n",
       "      <td>SPXW_060520C900</td>\n",
       "      <td>1950.8</td>\n",
       "      <td>1957.2</td>\n",
       "      <td>2020-06-05</td>\n",
       "      <td>24</td>\n",
       "      <td>True</td>\n",
       "    </tr>\n",
       "  </tbody>\n",
       "</table>\n",
       "</div>"
      ],
      "text/plain": [
       "            putCall           symbol     bid     ask expirationDate  \\\n",
       "strikePrice                                                           \n",
       "500.0          CALL  SPXW_060520C500  2350.7  2357.0     2020-06-05   \n",
       "600.0          CALL  SPXW_060520C600  2250.7  2256.9     2020-06-05   \n",
       "700.0          CALL  SPXW_060520C700  2150.8  2157.1     2020-06-05   \n",
       "800.0          CALL  SPXW_060520C800  2050.8  2057.0     2020-06-05   \n",
       "900.0          CALL  SPXW_060520C900  1950.8  1957.2     2020-06-05   \n",
       "\n",
       "             daysToExpiration  inTheMoney  \n",
       "strikePrice                                \n",
       "500.0                      24        True  \n",
       "600.0                      24        True  \n",
       "700.0                      24        True  \n",
       "800.0                      24        True  \n",
       "900.0                      24        True  "
      ]
     },
     "execution_count": 50,
     "metadata": {},
     "output_type": "execute_result"
    }
   ],
   "source": [
    "nearCalls.head()"
   ]
  },
  {
   "cell_type": "code",
   "execution_count": 51,
   "metadata": {},
   "outputs": [
    {
     "data": {
      "text/html": [
       "<div>\n",
       "<style scoped>\n",
       "    .dataframe tbody tr th:only-of-type {\n",
       "        vertical-align: middle;\n",
       "    }\n",
       "\n",
       "    .dataframe tbody tr th {\n",
       "        vertical-align: top;\n",
       "    }\n",
       "\n",
       "    .dataframe thead th {\n",
       "        text-align: right;\n",
       "    }\n",
       "</style>\n",
       "<table border=\"1\" class=\"dataframe\">\n",
       "  <thead>\n",
       "    <tr style=\"text-align: right;\">\n",
       "      <th></th>\n",
       "      <th>putCall</th>\n",
       "      <th>symbol</th>\n",
       "      <th>bid</th>\n",
       "      <th>ask</th>\n",
       "      <th>expirationDate</th>\n",
       "      <th>daysToExpiration</th>\n",
       "      <th>inTheMoney</th>\n",
       "    </tr>\n",
       "    <tr>\n",
       "      <th>strikePrice</th>\n",
       "      <th></th>\n",
       "      <th></th>\n",
       "      <th></th>\n",
       "      <th></th>\n",
       "      <th></th>\n",
       "      <th></th>\n",
       "      <th></th>\n",
       "    </tr>\n",
       "  </thead>\n",
       "  <tbody>\n",
       "    <tr>\n",
       "      <th>600.0</th>\n",
       "      <td>CALL</td>\n",
       "      <td>SPXW_061220C600</td>\n",
       "      <td>2249.1</td>\n",
       "      <td>2255.6</td>\n",
       "      <td>2020-06-12</td>\n",
       "      <td>31</td>\n",
       "      <td>True</td>\n",
       "    </tr>\n",
       "    <tr>\n",
       "      <th>700.0</th>\n",
       "      <td>CALL</td>\n",
       "      <td>SPXW_061220C700</td>\n",
       "      <td>2149.1</td>\n",
       "      <td>2155.5</td>\n",
       "      <td>2020-06-12</td>\n",
       "      <td>31</td>\n",
       "      <td>True</td>\n",
       "    </tr>\n",
       "    <tr>\n",
       "      <th>800.0</th>\n",
       "      <td>CALL</td>\n",
       "      <td>SPXW_061220C800</td>\n",
       "      <td>2049.2</td>\n",
       "      <td>2055.6</td>\n",
       "      <td>2020-06-12</td>\n",
       "      <td>31</td>\n",
       "      <td>True</td>\n",
       "    </tr>\n",
       "    <tr>\n",
       "      <th>900.0</th>\n",
       "      <td>CALL</td>\n",
       "      <td>SPXW_061220C900</td>\n",
       "      <td>1949.2</td>\n",
       "      <td>1955.8</td>\n",
       "      <td>2020-06-12</td>\n",
       "      <td>31</td>\n",
       "      <td>True</td>\n",
       "    </tr>\n",
       "    <tr>\n",
       "      <th>1000.0</th>\n",
       "      <td>CALL</td>\n",
       "      <td>SPXW_061220C1000</td>\n",
       "      <td>1849.2</td>\n",
       "      <td>1855.8</td>\n",
       "      <td>2020-06-12</td>\n",
       "      <td>31</td>\n",
       "      <td>True</td>\n",
       "    </tr>\n",
       "  </tbody>\n",
       "</table>\n",
       "</div>"
      ],
      "text/plain": [
       "            putCall            symbol     bid     ask expirationDate  \\\n",
       "strikePrice                                                            \n",
       "600.0          CALL   SPXW_061220C600  2249.1  2255.6     2020-06-12   \n",
       "700.0          CALL   SPXW_061220C700  2149.1  2155.5     2020-06-12   \n",
       "800.0          CALL   SPXW_061220C800  2049.2  2055.6     2020-06-12   \n",
       "900.0          CALL   SPXW_061220C900  1949.2  1955.8     2020-06-12   \n",
       "1000.0         CALL  SPXW_061220C1000  1849.2  1855.8     2020-06-12   \n",
       "\n",
       "             daysToExpiration  inTheMoney  \n",
       "strikePrice                                \n",
       "600.0                      31        True  \n",
       "700.0                      31        True  \n",
       "800.0                      31        True  \n",
       "900.0                      31        True  \n",
       "1000.0                     31        True  "
      ]
     },
     "execution_count": 51,
     "metadata": {},
     "output_type": "execute_result"
    }
   ],
   "source": [
    "farCalls.head()"
   ]
  }
 ],
 "metadata": {
  "colab": {
   "name": "tdVIX.ipynb",
   "provenance": []
  },
  "kernelspec": {
   "display_name": "Python 3",
   "language": "python",
   "name": "python3"
  },
  "language_info": {
   "codemirror_mode": {
    "name": "ipython",
    "version": 3
   },
   "file_extension": ".py",
   "mimetype": "text/x-python",
   "name": "python",
   "nbconvert_exporter": "python",
   "pygments_lexer": "ipython3",
   "version": "3.7.6"
  }
 },
 "nbformat": 4,
 "nbformat_minor": 4
}
