{
  "nbformat": 4,
  "nbformat_minor": 0,
  "metadata": {
    "colab": {
      "name": "SparkTD-SPXquotes.ipynb",
      "provenance": [],
      "collapsed_sections": [],
      "include_colab_link": true
    },
    "kernelspec": {
      "display_name": "Python 3",
      "language": "python",
      "name": "python3"
    },
    "language_info": {
      "codemirror_mode": {
        "name": "ipython",
        "version": 3
      },
      "file_extension": ".py",
      "mimetype": "text/x-python",
      "name": "python",
      "nbconvert_exporter": "python",
      "pygments_lexer": "ipython3",
      "version": "3.7.6"
    },
    "accelerator": "TPU"
  },
  "cells": [
    {
      "cell_type": "markdown",
      "metadata": {
        "id": "view-in-github",
        "colab_type": "text"
      },
      "source": [
        "<a href=\"https://colab.research.google.com/github/jus-tinian/vix_calc/blob/master/SparkTD_SPXquotes.ipynb\" target=\"_parent\"><img src=\"https://colab.research.google.com/assets/colab-badge.svg\" alt=\"Open In Colab\"/></a>"
      ]
    },
    {
      "cell_type": "markdown",
      "metadata": {
        "id": "u9ngGvuamOR3",
        "colab_type": "text"
      },
      "source": [
        "## Create Working Env"
      ]
    },
    {
      "cell_type": "code",
      "metadata": {
        "id": "zoXMSz9jf4Sv",
        "colab_type": "code",
        "colab": {}
      },
      "source": [
        "!apt-get install openjdk-8-jdk-headless -qq > /dev/null\n",
        "!wget -q https://www-eu.apache.org/dist/spark/spark-2.4.5/spark-2.4.5-bin-hadoop2.7.tgz\n",
        "!tar xf spark-2.4.5-bin-hadoop2.7.tgz"
      ],
      "execution_count": 0,
      "outputs": []
    },
    {
      "cell_type": "code",
      "metadata": {
        "id": "E3hhknoIf632",
        "colab_type": "code",
        "colab": {}
      },
      "source": [
        "import os\n",
        "os.environ[\"JAVA_HOME\"] = \"/usr/lib/jvm/java-8-openjdk-amd64\"\n",
        "os.environ[\"SPARK_HOME\"] = \"/content/spark-2.4.5-bin-hadoop2.7\""
      ],
      "execution_count": 0,
      "outputs": []
    },
    {
      "cell_type": "code",
      "metadata": {
        "id": "LEjbsSwFf9Hr",
        "colab_type": "code",
        "colab": {}
      },
      "source": [
        "!pip install -q findspark\n",
        "!pip install -q pyspark"
      ],
      "execution_count": 0,
      "outputs": []
    },
    {
      "cell_type": "code",
      "metadata": {
        "id": "M9xuZZQYf-mN",
        "colab_type": "code",
        "colab": {}
      },
      "source": [
        "from google.colab import drive\n",
        "drive.mount('/content/gdrive')"
      ],
      "execution_count": 0,
      "outputs": []
    },
    {
      "cell_type": "markdown",
      "metadata": {
        "id": "jIFKuOkymkYj",
        "colab_type": "text"
      },
      "source": [
        "## Imports"
      ]
    },
    {
      "cell_type": "code",
      "metadata": {
        "colab_type": "code",
        "id": "bcOEBM6X0KbA",
        "colab": {}
      },
      "source": [
        "import requests\n",
        "import datetime\n",
        "\n",
        "import pyspark\n",
        "import pandas as pd\n",
        "\n",
        "from pyspark.sql import SparkSession\n",
        "\n",
        "from pyspark.sql.functions import udf\n",
        "from pyspark.sql.types import TimestampType, DateType\n",
        "from pyspark.sql import DataFrame\n",
        "\n",
        "from functools import reduce"
      ],
      "execution_count": 0,
      "outputs": []
    },
    {
      "cell_type": "markdown",
      "metadata": {
        "id": "pnlcIWIGmn0t",
        "colab_type": "text"
      },
      "source": [
        "## Create Spark Session"
      ]
    },
    {
      "cell_type": "code",
      "metadata": {
        "id": "gTlXfqM1fruH",
        "colab_type": "code",
        "colab": {}
      },
      "source": [
        "APP_NAME = \"VIXcalc\"\n",
        "SPARK_URL = \"local[*]\""
      ],
      "execution_count": 0,
      "outputs": []
    },
    {
      "cell_type": "code",
      "metadata": {
        "id": "5VSC1JMrfruP",
        "colab_type": "code",
        "colab": {}
      },
      "source": [
        "spark = SparkSession.builder.master(SPARK_URL).appName(APP_NAME).getOrCreate()"
      ],
      "execution_count": 0,
      "outputs": []
    },
    {
      "cell_type": "code",
      "metadata": {
        "id": "g7iFLRfdgwi0",
        "colab_type": "code",
        "outputId": "f150cdad-a695-45a4-861c-7a1cc77f0c30",
        "colab": {
          "base_uri": "https://localhost:8080/",
          "height": 219
        }
      },
      "source": [
        "spark"
      ],
      "execution_count": 8,
      "outputs": [
        {
          "output_type": "execute_result",
          "data": {
            "text/html": [
              "\n",
              "            <div>\n",
              "                <p><b>SparkSession - in-memory</b></p>\n",
              "                \n",
              "        <div>\n",
              "            <p><b>SparkContext</b></p>\n",
              "\n",
              "            <p><a href=\"http://6a19d8595969:4040\">Spark UI</a></p>\n",
              "\n",
              "            <dl>\n",
              "              <dt>Version</dt>\n",
              "                <dd><code>v2.4.5</code></dd>\n",
              "              <dt>Master</dt>\n",
              "                <dd><code>local[*]</code></dd>\n",
              "              <dt>AppName</dt>\n",
              "                <dd><code>VIXcalc</code></dd>\n",
              "            </dl>\n",
              "        </div>\n",
              "        \n",
              "            </div>\n",
              "        "
            ],
            "text/plain": [
              "<pyspark.sql.session.SparkSession at 0x7f154c2fe668>"
            ]
          },
          "metadata": {
            "tags": []
          },
          "execution_count": 8
        }
      ]
    },
    {
      "cell_type": "markdown",
      "metadata": {
        "id": "5AUrKrZnfruU",
        "colab_type": "text"
      },
      "source": [
        "## Make Dates"
      ]
    },
    {
      "cell_type": "code",
      "metadata": {
        "colab_type": "code",
        "id": "AXWMFUO9fkqJ",
        "colab": {}
      },
      "source": [
        "today = datetime.datetime.today().date()"
      ],
      "execution_count": 0,
      "outputs": []
    },
    {
      "cell_type": "code",
      "metadata": {
        "colab_type": "code",
        "id": "vNSBbVSJfuJd",
        "colab": {}
      },
      "source": [
        "farDate = today + datetime.timedelta(days=37)"
      ],
      "execution_count": 0,
      "outputs": []
    },
    {
      "cell_type": "code",
      "metadata": {
        "colab_type": "code",
        "id": "XJqzYRl5gFVQ",
        "colab": {}
      },
      "source": [
        "nearDate = today + datetime.timedelta(days=23)"
      ],
      "execution_count": 0,
      "outputs": []
    },
    {
      "cell_type": "markdown",
      "metadata": {
        "id": "2jaELOkul5Dl",
        "colab_type": "text"
      },
      "source": [
        "## Get API response"
      ]
    },
    {
      "cell_type": "code",
      "metadata": {
        "id": "KE4VgHsYfruk",
        "colab_type": "code",
        "colab": {}
      },
      "source": [
        "# your key here\n",
        "KEY = 'your_key_here'"
      ],
      "execution_count": 0,
      "outputs": []
    },
    {
      "cell_type": "code",
      "metadata": {
        "colab_type": "code",
        "id": "BW9ECzPUxy6N",
        "colab": {}
      },
      "source": [
        "url = f\"https://api.tdameritrade.com/v1/marketdata/chains?apikey={KEY}&symbol=%24SPX.X&includeQuotes=TRUE&strategy=SINGLE&range=ALL&fromDate={str(nearDate)}&toDate={str(farDate)}\""
      ],
      "execution_count": 0,
      "outputs": []
    },
    {
      "cell_type": "code",
      "metadata": {
        "id": "cO_Z6H4Afrus",
        "colab_type": "code",
        "colab": {}
      },
      "source": [
        "req = requests.get(url)"
      ],
      "execution_count": 0,
      "outputs": []
    },
    {
      "cell_type": "code",
      "metadata": {
        "id": "maVj22rSfruw",
        "colab_type": "code",
        "colab": {}
      },
      "source": [
        "reqJSON = req.json()"
      ],
      "execution_count": 0,
      "outputs": []
    },
    {
      "cell_type": "markdown",
      "metadata": {
        "id": "iJbq4nVol9Gt",
        "colab_type": "text"
      },
      "source": [
        "## Set Keys to access reqJSON"
      ]
    },
    {
      "cell_type": "code",
      "metadata": {
        "id": "XH6Lv7ENfru0",
        "colab_type": "code",
        "colab": {}
      },
      "source": [
        "putKey = 'putExpDateMap'"
      ],
      "execution_count": 0,
      "outputs": []
    },
    {
      "cell_type": "code",
      "metadata": {
        "id": "8EvaQu2lfru5",
        "colab_type": "code",
        "colab": {}
      },
      "source": [
        "callKey = 'callExpDateMap'"
      ],
      "execution_count": 0,
      "outputs": []
    },
    {
      "cell_type": "code",
      "metadata": {
        "id": "LB6Hc7l6fru_",
        "colab_type": "code",
        "colab": {}
      },
      "source": [
        "dateKeys = [i for i in list(req.json()[putKey].keys()) if pd.to_datetime(i[:-3]).dayofweek == 4]"
      ],
      "execution_count": 0,
      "outputs": []
    },
    {
      "cell_type": "code",
      "metadata": {
        "id": "n50sBPCFfrvC",
        "colab_type": "code",
        "colab": {}
      },
      "source": [
        "nearKey = min(dateKeys)\n",
        "farKey = max(dateKeys)\n",
        "nearExpiration = datetime.datetime.strptime(nearKey[:-3], '%Y-%m-%d').date()\n",
        "farExpiration = datetime.datetime.strptime(farKey[:-3], '%Y-%m-%d').date()"
      ],
      "execution_count": 0,
      "outputs": []
    },
    {
      "cell_type": "markdown",
      "metadata": {
        "id": "73hxKztNmGbq",
        "colab_type": "text"
      },
      "source": [
        "## Set Interest Rate"
      ]
    },
    {
      "cell_type": "code",
      "metadata": {
        "id": "BbwnM3Xufru8",
        "colab_type": "code",
        "colab": {}
      },
      "source": [
        "RATE = reqJSON['interestRate']"
      ],
      "execution_count": 0,
      "outputs": []
    },
    {
      "cell_type": "markdown",
      "metadata": {
        "id": "c6uDg5wCmI-B",
        "colab_type": "text"
      },
      "source": [
        "## Set Columns to Keep"
      ]
    },
    {
      "cell_type": "code",
      "metadata": {
        "id": "qcu2wMbxfrvG",
        "colab_type": "code",
        "colab": {}
      },
      "source": [
        "minKeepCols = ['putCall', 'symbol', 'bid', 'ask', 'expirationDate', 'daysToExpiration', 'inTheMoney', 'strikePrice']"
      ],
      "execution_count": 0,
      "outputs": []
    },
    {
      "cell_type": "markdown",
      "metadata": {
        "id": "_x_5ZKU5lslK",
        "colab_type": "text"
      },
      "source": [
        "## UDFs"
      ]
    },
    {
      "cell_type": "code",
      "metadata": {
        "id": "T71bGTArbbRF",
        "colab_type": "code",
        "colab": {}
      },
      "source": [
        "convertEpochToDate = udf(lambda msEpoch: datetime.datetime.fromtimestamp(msEpoch/1000).date(), DateType())"
      ],
      "execution_count": 0,
      "outputs": []
    },
    {
      "cell_type": "code",
      "metadata": {
        "id": "j0dmQKk2Sgjh",
        "colab_type": "code",
        "colab": {}
      },
      "source": [
        "convertEpochToTimeStamp = udf(lambda msEpoch: datetime.datetime.fromtimestamp(msEpoch/1000), TimestampType())"
      ],
      "execution_count": 0,
      "outputs": []
    },
    {
      "cell_type": "markdown",
      "metadata": {
        "id": "g9dLeUtwCYXx",
        "colab_type": "text"
      },
      "source": [
        "## Prep Pipe"
      ]
    },
    {
      "cell_type": "code",
      "metadata": {
        "id": "S-kFM4i8QSxM",
        "colab_type": "code",
        "colab": {}
      },
      "source": [
        "def from_json(jsonObj, sideKey, termKey, minKeepColsParam=minKeepCols):\n",
        "\n",
        "  minStrikeKey = list(reqJSON[sideKey][termKey].keys())[0]\n",
        "\n",
        "  strikesList = list(jsonObj[sideKey][termKey].keys())[1:]\n",
        "\n",
        "  source_df = spark.createDataFrame(pd.DataFrame(jsonObj[sideKey][termKey][minStrikeKey])[minKeepCols])\n",
        "\n",
        "  dfs = [source_df] + [spark.createDataFrame(pd.DataFrame(jsonObj[sideKey][termKey][v])[minKeepColsParam]) for i, v in enumerate(strikesList)]\n",
        "\n",
        "  source_df1 = reduce(DataFrame.union, dfs)\n",
        "\n",
        "  source_df2 = source_df1.where('bid != 0')\n",
        "\n",
        "  nonWeeklyCount = source_df2.filter(~source_df1.symbol.contains('W')).count()\n",
        "\n",
        "  if nonWeeklyCount != 0:\n",
        "    source_df2 = source_df2.filter(~source_df2.symbol.contains('W'))\n",
        "\n",
        "  source_df3 = source_df2.withColumn(\n",
        "      'expiration',\n",
        "      convertEpochToDate('expirationDate')).select(\n",
        "          'strikePrice',\n",
        "          'putCall',\n",
        "          'symbol',\n",
        "          'bid',\n",
        "          'ask',\n",
        "          'daysToExpiration',\n",
        "          'inTheMoney',\n",
        "          'expiration')\n",
        "      \n",
        "  return source_df3"
      ],
      "execution_count": 0,
      "outputs": []
    },
    {
      "cell_type": "markdown",
      "metadata": {
        "id": "z3X8yzoCfrvJ",
        "colab_type": "text"
      },
      "source": [
        "# Near Puts"
      ]
    },
    {
      "cell_type": "code",
      "metadata": {
        "id": "Cd9Y8nXCsv5G",
        "colab_type": "code",
        "colab": {}
      },
      "source": [
        "nearPuts = from_json(reqJSON, putKey, nearKey)"
      ],
      "execution_count": 0,
      "outputs": []
    },
    {
      "cell_type": "code",
      "metadata": {
        "id": "FjvOtM6vDTnx",
        "colab_type": "code",
        "colab": {
          "base_uri": "https://localhost:8080/",
          "height": 208
        },
        "outputId": "11250b1c-a9b0-4db4-89f3-f3913afc4012"
      },
      "source": [
        "nearPuts.show(5)"
      ],
      "execution_count": 27,
      "outputs": [
        {
          "output_type": "stream",
          "text": [
            "+-----------+-------+----------------+----+----+----------------+----------+----------+\n",
            "|strikePrice|putCall|          symbol| bid| ask|daysToExpiration|inTheMoney|expiration|\n",
            "+-----------+-------+----------------+----+----+----------------+----------+----------+\n",
            "|     1150.0|    PUT|SPXW_061220P1150|0.05| 0.2|              30|     false|2020-06-12|\n",
            "|     1250.0|    PUT|SPXW_061220P1250| 0.1| 0.3|              30|     false|2020-06-12|\n",
            "|     1300.0|    PUT|SPXW_061220P1300| 0.1| 0.3|              30|     false|2020-06-12|\n",
            "|     1350.0|    PUT|SPXW_061220P1350|0.15|0.35|              30|     false|2020-06-12|\n",
            "|     1400.0|    PUT|SPXW_061220P1400| 0.2|0.45|              30|     false|2020-06-12|\n",
            "+-----------+-------+----------------+----+----+----------------+----------+----------+\n",
            "only showing top 5 rows\n",
            "\n"
          ],
          "name": "stdout"
        }
      ]
    },
    {
      "cell_type": "markdown",
      "metadata": {
        "id": "cU83D4aFnFtt",
        "colab_type": "text"
      },
      "source": [
        "## Far Puts"
      ]
    },
    {
      "cell_type": "code",
      "metadata": {
        "id": "KA5eQALi_unB",
        "colab_type": "code",
        "colab": {}
      },
      "source": [
        "farPuts = from_json(reqJSON, putKey, farKey)"
      ],
      "execution_count": 0,
      "outputs": []
    },
    {
      "cell_type": "code",
      "metadata": {
        "id": "L0smKmbaBaSm",
        "colab_type": "code",
        "colab": {
          "base_uri": "https://localhost:8080/",
          "height": 208
        },
        "outputId": "0d88d1fc-483f-44b8-8dd4-54f2623219d2"
      },
      "source": [
        "farPuts.show(5)"
      ],
      "execution_count": 29,
      "outputs": [
        {
          "output_type": "stream",
          "text": [
            "+-----------+-------+---------------+----+----+----------------+----------+----------+\n",
            "|strikePrice|putCall|         symbol| bid| ask|daysToExpiration|inTheMoney|expiration|\n",
            "+-----------+-------+---------------+----+----+----------------+----------+----------+\n",
            "|      900.0|    PUT| SPX_061920P900|0.05| 0.1|              37|     false|2020-06-19|\n",
            "|     1000.0|    PUT|SPX_061920P1000| 0.1|0.15|              37|     false|2020-06-19|\n",
            "|     1100.0|    PUT|SPX_061920P1100| 0.1| 0.2|              37|     false|2020-06-19|\n",
            "|     1150.0|    PUT|SPX_061920P1150| 0.1| 0.2|              37|     false|2020-06-19|\n",
            "|     1200.0|    PUT|SPX_061920P1200|0.15| 0.3|              37|     false|2020-06-19|\n",
            "+-----------+-------+---------------+----+----+----------------+----------+----------+\n",
            "only showing top 5 rows\n",
            "\n"
          ],
          "name": "stdout"
        }
      ]
    },
    {
      "cell_type": "markdown",
      "metadata": {
        "colab_type": "text",
        "id": "H83ceGb0EcPd"
      },
      "source": [
        "# Near Calls"
      ]
    },
    {
      "cell_type": "code",
      "metadata": {
        "colab_type": "code",
        "id": "sLJoeegbEcP3",
        "colab": {}
      },
      "source": [
        "nearCalls = from_json(reqJSON, callKey, nearKey)"
      ],
      "execution_count": 0,
      "outputs": []
    },
    {
      "cell_type": "code",
      "metadata": {
        "colab_type": "code",
        "id": "_jGyNk9UEcP7",
        "colab": {
          "base_uri": "https://localhost:8080/",
          "height": 208
        },
        "outputId": "1c18f65c-753b-4c76-9c14-f817e56bb4f3"
      },
      "source": [
        "nearCalls.show(5)"
      ],
      "execution_count": 31,
      "outputs": [
        {
          "output_type": "stream",
          "text": [
            "+-----------+-------+---------------+------+------+----------------+----------+----------+\n",
            "|strikePrice|putCall|         symbol|   bid|   ask|daysToExpiration|inTheMoney|expiration|\n",
            "+-----------+-------+---------------+------+------+----------------+----------+----------+\n",
            "|      500.0|   CALL|SPXW_061220C500|2309.5|2315.6|              30|      true|2020-06-12|\n",
            "|      600.0|   CALL|SPXW_061220C600|2209.6|2215.6|              30|      true|2020-06-12|\n",
            "|      700.0|   CALL|SPXW_061220C700|2109.3|2115.6|              30|      true|2020-06-12|\n",
            "|      800.0|   CALL|SPXW_061220C800|2009.7|2015.7|              30|      true|2020-06-12|\n",
            "|      900.0|   CALL|SPXW_061220C900|1909.4|1915.8|              30|      true|2020-06-12|\n",
            "+-----------+-------+---------------+------+------+----------------+----------+----------+\n",
            "only showing top 5 rows\n",
            "\n"
          ],
          "name": "stdout"
        }
      ]
    },
    {
      "cell_type": "markdown",
      "metadata": {
        "colab_type": "text",
        "id": "_7wi1fzcEcQA"
      },
      "source": [
        "## Far Calls"
      ]
    },
    {
      "cell_type": "code",
      "metadata": {
        "id": "Ww44ArqgRbjN",
        "colab_type": "code",
        "colab": {}
      },
      "source": [
        "farCalls = from_json(reqJSON, callKey, farKey)"
      ],
      "execution_count": 0,
      "outputs": []
    },
    {
      "cell_type": "code",
      "metadata": {
        "id": "DDJRQgDBdKJq",
        "colab_type": "code",
        "colab": {
          "base_uri": "https://localhost:8080/",
          "height": 208
        },
        "outputId": "f911684f-2206-4bf6-c38d-954f6fc55516"
      },
      "source": [
        "farCalls.show(5)"
      ],
      "execution_count": 33,
      "outputs": [
        {
          "output_type": "stream",
          "text": [
            "+-----------+-------+--------------+------+------+----------------+----------+----------+\n",
            "|strikePrice|putCall|        symbol|   bid|   ask|daysToExpiration|inTheMoney|expiration|\n",
            "+-----------+-------+--------------+------+------+----------------+----------+----------+\n",
            "|      100.0|   CALL|SPX_061920C100|2704.2|2720.4|              37|      true|2020-06-19|\n",
            "|      200.0|   CALL|SPX_061920C200|2604.3|2620.5|              37|      true|2020-06-19|\n",
            "|      300.0|   CALL|SPX_061920C300|2504.4|2520.0|              37|      true|2020-06-19|\n",
            "|      400.0|   CALL|SPX_061920C400|2404.5|2420.1|              37|      true|2020-06-19|\n",
            "|      500.0|   CALL|SPX_061920C500|2304.5|2320.1|              37|      true|2020-06-19|\n",
            "+-----------+-------+--------------+------+------+----------------+----------+----------+\n",
            "only showing top 5 rows\n",
            "\n"
          ],
          "name": "stdout"
        }
      ]
    }
  ]
}