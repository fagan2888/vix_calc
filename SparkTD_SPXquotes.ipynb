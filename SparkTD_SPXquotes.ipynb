{
  "nbformat": 4,
  "nbformat_minor": 0,
  "metadata": {
    "colab": {
      "name": "SparkTD-SPXquotes.ipynb",
      "provenance": [],
      "collapsed_sections": [],
      "include_colab_link": true
    },
    "kernelspec": {
      "display_name": "Python 3",
      "language": "python",
      "name": "python3"
    },
    "language_info": {
      "codemirror_mode": {
        "name": "ipython",
        "version": 3
      },
      "file_extension": ".py",
      "mimetype": "text/x-python",
      "name": "python",
      "nbconvert_exporter": "python",
      "pygments_lexer": "ipython3",
      "version": "3.7.6"
    }
  },
  "cells": [
    {
      "cell_type": "markdown",
      "metadata": {
        "id": "view-in-github",
        "colab_type": "text"
      },
      "source": [
        "<a href=\"https://colab.research.google.com/github/jus-tinian/vix_calc/blob/master/SparkTD_SPXquotes.ipynb\" target=\"_parent\"><img src=\"https://colab.research.google.com/assets/colab-badge.svg\" alt=\"Open In Colab\"/></a>"
      ]
    },
    {
      "cell_type": "markdown",
      "metadata": {
        "id": "u9ngGvuamOR3",
        "colab_type": "text"
      },
      "source": [
        "## Create Working Env"
      ]
    },
    {
      "cell_type": "code",
      "metadata": {
        "id": "zoXMSz9jf4Sv",
        "colab_type": "code",
        "colab": {}
      },
      "source": [
        "!apt-get install openjdk-8-jdk-headless -qq > /dev/null\n",
        "!wget -q https://www-eu.apache.org/dist/spark/spark-2.4.5/spark-2.4.5-bin-hadoop2.7.tgz\n",
        "!tar xf spark-2.4.5-bin-hadoop2.7.tgz"
      ],
      "execution_count": 0,
      "outputs": []
    },
    {
      "cell_type": "code",
      "metadata": {
        "id": "Rguhjnml32DS",
        "colab_type": "code",
        "outputId": "0903a7c9-734b-41dc-f7bd-b421e4f24b87",
        "colab": {
          "base_uri": "https://localhost:8080/",
          "height": 34
        }
      },
      "source": [
        "from google.colab import drive\n",
        "drive.mount('/content/drive')"
      ],
      "execution_count": 2,
      "outputs": [
        {
          "output_type": "stream",
          "text": [
            "Drive already mounted at /content/drive; to attempt to forcibly remount, call drive.mount(\"/content/drive\", force_remount=True).\n"
          ],
          "name": "stdout"
        }
      ]
    },
    {
      "cell_type": "code",
      "metadata": {
        "id": "E3hhknoIf632",
        "colab_type": "code",
        "colab": {}
      },
      "source": [
        "import os\n",
        "os.environ[\"JAVA_HOME\"] = \"/usr/lib/jvm/java-8-openjdk-amd64\"\n",
        "os.environ[\"SPARK_HOME\"] = \"/content/spark-2.4.5-bin-hadoop2.7\""
      ],
      "execution_count": 0,
      "outputs": []
    },
    {
      "cell_type": "code",
      "metadata": {
        "id": "LEjbsSwFf9Hr",
        "colab_type": "code",
        "colab": {}
      },
      "source": [
        "!pip install -q findspark\n",
        "!pip install -q pyspark"
      ],
      "execution_count": 0,
      "outputs": []
    },
    {
      "cell_type": "markdown",
      "metadata": {
        "id": "jIFKuOkymkYj",
        "colab_type": "text"
      },
      "source": [
        "## Imports"
      ]
    },
    {
      "cell_type": "code",
      "metadata": {
        "colab_type": "code",
        "id": "bcOEBM6X0KbA",
        "colab": {}
      },
      "source": [
        "import requests\n",
        "import datetime\n",
        "\n",
        "import pyspark\n",
        "import pandas as pd\n",
        "\n",
        "from pyspark.sql import SparkSession\n",
        "\n",
        "from pyspark.sql.functions import udf\n",
        "from pyspark.sql.types import TimestampType, DateType, StructType, StructField, StringType\n",
        "from pyspark.sql.types import FloatType, LongType, IntegerType\n",
        "from pyspark.sql import DataFrame\n",
        "\n",
        "from functools import reduce"
      ],
      "execution_count": 0,
      "outputs": []
    },
    {
      "cell_type": "markdown",
      "metadata": {
        "id": "pnlcIWIGmn0t",
        "colab_type": "text"
      },
      "source": [
        "## Create Spark Session"
      ]
    },
    {
      "cell_type": "code",
      "metadata": {
        "id": "gTlXfqM1fruH",
        "colab_type": "code",
        "colab": {}
      },
      "source": [
        "APP_NAME = \"VIXcalc\"\n",
        "SPARK_URL = \"local[*]\""
      ],
      "execution_count": 0,
      "outputs": []
    },
    {
      "cell_type": "code",
      "metadata": {
        "id": "5VSC1JMrfruP",
        "colab_type": "code",
        "colab": {}
      },
      "source": [
        "spark = SparkSession.builder.master(SPARK_URL).appName(APP_NAME).getOrCreate()"
      ],
      "execution_count": 0,
      "outputs": []
    },
    {
      "cell_type": "code",
      "metadata": {
        "id": "g7iFLRfdgwi0",
        "colab_type": "code",
        "outputId": "dd34ab72-5218-43a0-8add-fe1d4c641613",
        "colab": {
          "base_uri": "https://localhost:8080/",
          "height": 219
        }
      },
      "source": [
        "spark"
      ],
      "execution_count": 8,
      "outputs": [
        {
          "output_type": "execute_result",
          "data": {
            "text/html": [
              "\n",
              "            <div>\n",
              "                <p><b>SparkSession - in-memory</b></p>\n",
              "                \n",
              "        <div>\n",
              "            <p><b>SparkContext</b></p>\n",
              "\n",
              "            <p><a href=\"http://2a90988c50a1:4040\">Spark UI</a></p>\n",
              "\n",
              "            <dl>\n",
              "              <dt>Version</dt>\n",
              "                <dd><code>v2.4.5</code></dd>\n",
              "              <dt>Master</dt>\n",
              "                <dd><code>local[*]</code></dd>\n",
              "              <dt>AppName</dt>\n",
              "                <dd><code>VIXcalc</code></dd>\n",
              "            </dl>\n",
              "        </div>\n",
              "        \n",
              "            </div>\n",
              "        "
            ],
            "text/plain": [
              "<pyspark.sql.session.SparkSession at 0x7f6d9a43c2b0>"
            ]
          },
          "metadata": {
            "tags": []
          },
          "execution_count": 8
        }
      ]
    },
    {
      "cell_type": "markdown",
      "metadata": {
        "id": "5AUrKrZnfruU",
        "colab_type": "text"
      },
      "source": [
        "## Make Dates"
      ]
    },
    {
      "cell_type": "code",
      "metadata": {
        "colab_type": "code",
        "id": "AXWMFUO9fkqJ",
        "colab": {}
      },
      "source": [
        "today = datetime.datetime.today().date()"
      ],
      "execution_count": 0,
      "outputs": []
    },
    {
      "cell_type": "code",
      "metadata": {
        "colab_type": "code",
        "id": "vNSBbVSJfuJd",
        "colab": {}
      },
      "source": [
        "farDate = today + datetime.timedelta(days=37)"
      ],
      "execution_count": 0,
      "outputs": []
    },
    {
      "cell_type": "code",
      "metadata": {
        "colab_type": "code",
        "id": "XJqzYRl5gFVQ",
        "colab": {}
      },
      "source": [
        "nearDate = today + datetime.timedelta(days=23)"
      ],
      "execution_count": 0,
      "outputs": []
    },
    {
      "cell_type": "markdown",
      "metadata": {
        "id": "2jaELOkul5Dl",
        "colab_type": "text"
      },
      "source": [
        "## Get API response"
      ]
    },
    {
      "cell_type": "code",
      "metadata": {
        "id": "KE4VgHsYfruk",
        "colab_type": "code",
        "colab": {}
      },
      "source": [
        "# your key here\n",
        "KEY = 'your key here'"
      ],
      "execution_count": 0,
      "outputs": []
    },
    {
      "cell_type": "code",
      "metadata": {
        "colab_type": "code",
        "id": "BW9ECzPUxy6N",
        "colab": {}
      },
      "source": [
        "url = f\"https://api.tdameritrade.com/v1/marketdata/chains?apikey={KEY}&symbol=%24SPX.X&includeQuotes=TRUE&strategy=SINGLE&range=ALL&fromDate={str(nearDate)}&toDate={str(farDate)}\""
      ],
      "execution_count": 0,
      "outputs": []
    },
    {
      "cell_type": "code",
      "metadata": {
        "id": "cO_Z6H4Afrus",
        "colab_type": "code",
        "colab": {}
      },
      "source": [
        "req = requests.get(url)"
      ],
      "execution_count": 0,
      "outputs": []
    },
    {
      "cell_type": "code",
      "metadata": {
        "id": "maVj22rSfruw",
        "colab_type": "code",
        "colab": {}
      },
      "source": [
        "reqJSON = req.json()"
      ],
      "execution_count": 0,
      "outputs": []
    },
    {
      "cell_type": "markdown",
      "metadata": {
        "id": "iJbq4nVol9Gt",
        "colab_type": "text"
      },
      "source": [
        "## Set Keys to access reqJSON"
      ]
    },
    {
      "cell_type": "code",
      "metadata": {
        "id": "XH6Lv7ENfru0",
        "colab_type": "code",
        "colab": {}
      },
      "source": [
        "putKey = 'putExpDateMap'"
      ],
      "execution_count": 0,
      "outputs": []
    },
    {
      "cell_type": "code",
      "metadata": {
        "id": "8EvaQu2lfru5",
        "colab_type": "code",
        "colab": {}
      },
      "source": [
        "callKey = 'callExpDateMap'"
      ],
      "execution_count": 0,
      "outputs": []
    },
    {
      "cell_type": "code",
      "metadata": {
        "id": "LB6Hc7l6fru_",
        "colab_type": "code",
        "colab": {}
      },
      "source": [
        "dateKeys = [i for i in list(req.json()[putKey].keys()) if datetime.datetime.strptime(i[:-3], '%Y-%m-%d').weekday() == 4]"
      ],
      "execution_count": 0,
      "outputs": []
    },
    {
      "cell_type": "code",
      "metadata": {
        "id": "n50sBPCFfrvC",
        "colab_type": "code",
        "colab": {}
      },
      "source": [
        "nearKey = min(dateKeys)\n",
        "farKey = max(dateKeys)"
      ],
      "execution_count": 0,
      "outputs": []
    },
    {
      "cell_type": "markdown",
      "metadata": {
        "id": "73hxKztNmGbq",
        "colab_type": "text"
      },
      "source": [
        "## Set Interest Rate"
      ]
    },
    {
      "cell_type": "code",
      "metadata": {
        "id": "BbwnM3Xufru8",
        "colab_type": "code",
        "colab": {}
      },
      "source": [
        "RATE = reqJSON['interestRate']"
      ],
      "execution_count": 0,
      "outputs": []
    },
    {
      "cell_type": "markdown",
      "metadata": {
        "id": "_x_5ZKU5lslK",
        "colab_type": "text"
      },
      "source": [
        "## UDFs"
      ]
    },
    {
      "cell_type": "code",
      "metadata": {
        "id": "T71bGTArbbRF",
        "colab_type": "code",
        "colab": {}
      },
      "source": [
        "convertEpochToDate = udf(lambda msEpoch: datetime.datetime.fromtimestamp(msEpoch/1000).date(), DateType())"
      ],
      "execution_count": 0,
      "outputs": []
    },
    {
      "cell_type": "code",
      "metadata": {
        "id": "j0dmQKk2Sgjh",
        "colab_type": "code",
        "colab": {}
      },
      "source": [
        "convertEpochToTimeStamp = udf(lambda msEpoch: datetime.datetime.fromtimestamp(msEpoch/1000), TimestampType())"
      ],
      "execution_count": 0,
      "outputs": []
    },
    {
      "cell_type": "markdown",
      "metadata": {
        "id": "g9dLeUtwCYXx",
        "colab_type": "text"
      },
      "source": [
        "## Prep Pipe NO TOUCH"
      ]
    },
    {
      "cell_type": "code",
      "metadata": {
        "id": "wm9x-p6l24FN",
        "colab_type": "code",
        "colab": {}
      },
      "source": [
        "from pyspark.sql import Row"
      ],
      "execution_count": 0,
      "outputs": []
    },
    {
      "cell_type": "code",
      "metadata": {
        "id": "S-kFM4i8QSxM",
        "colab_type": "code",
        "colab": {}
      },
      "source": [
        "def from_json(jsonObj, sideKey, termKey):\n",
        "\n",
        "  # make list of strikes\n",
        "  strikesList = list(jsonObj[sideKey][termKey].keys())\n",
        "  keep = ['strikePrice', 'symbol', 'putCall', 'bid', 'ask', 'expirationDate', 'inTheMoney']\n",
        "\n",
        "  source = [Row(**{k:v for k,v in reqJSON[sideKey][termKey][strike][0].items() if k in keep}) for strike in strikesList]\n",
        "\n",
        "  # similar to for loop to append all DFs into single DF\n",
        "  source_df1 = spark.createDataFrame(source)\n",
        "  \n",
        "  # drop non zero bids\n",
        "  source_df2 = source_df1.where('bid != 0')\n",
        "\n",
        "  # for Friday when there is a weekly & standard expiry, select standard\n",
        "  nonWeeklyCount = source_df2.filter(~source_df2.symbol.contains('W')).count()\n",
        "  if nonWeeklyCount != 0:\n",
        "    source_df2 = source_df2.filter(~source_df2.symbol.contains('W'))\n",
        "\n",
        "  # convert msEpoch (expirationDate) to datetime\n",
        "  source_df3 = source_df2.withColumn('expiration', convertEpochToDate('expirationDate'))\n",
        "      \n",
        "  return source_df3"
      ],
      "execution_count": 0,
      "outputs": []
    },
    {
      "cell_type": "markdown",
      "metadata": {
        "id": "z3X8yzoCfrvJ",
        "colab_type": "text"
      },
      "source": [
        "# Near Puts"
      ]
    },
    {
      "cell_type": "code",
      "metadata": {
        "id": "Cd9Y8nXCsv5G",
        "colab_type": "code",
        "colab": {}
      },
      "source": [
        "nearPuts = from_json(reqJSON, putKey, nearKey)"
      ],
      "execution_count": 0,
      "outputs": []
    },
    {
      "cell_type": "code",
      "metadata": {
        "id": "ZNsO-g-6aENl",
        "colab_type": "code",
        "outputId": "68e616c4-1309-4e5a-a3d9-7019637923bf",
        "colab": {
          "base_uri": "https://localhost:8080/",
          "height": 469
        }
      },
      "source": [
        "nearPuts.show()"
      ],
      "execution_count": 26,
      "outputs": [
        {
          "output_type": "stream",
          "text": [
            "+----+----+--------------+----------+-------+-----------+----------------+----------+\n",
            "| ask| bid|expirationDate|inTheMoney|putCall|strikePrice|          symbol|expiration|\n",
            "+----+----+--------------+----------+-------+-----------+----------------+----------+\n",
            "|0.15|0.05| 1591992000000|     false|    PUT|     1300.0|SPXW_061220P1300|2020-06-12|\n",
            "|0.15| 0.1| 1591992000000|     false|    PUT|     1350.0|SPXW_061220P1350|2020-06-12|\n",
            "|0.15| 0.1| 1591992000000|     false|    PUT|     1400.0|SPXW_061220P1400|2020-06-12|\n",
            "| 0.2| 0.1| 1591992000000|     false|    PUT|     1450.0|SPXW_061220P1450|2020-06-12|\n",
            "| 0.2| 0.1| 1591992000000|     false|    PUT|     1500.0|SPXW_061220P1500|2020-06-12|\n",
            "| 0.2|0.15| 1591992000000|     false|    PUT|     1550.0|SPXW_061220P1550|2020-06-12|\n",
            "|0.25|0.15| 1591992000000|     false|    PUT|     1600.0|SPXW_061220P1600|2020-06-12|\n",
            "|0.25| 0.2| 1591992000000|     false|    PUT|     1650.0|SPXW_061220P1650|2020-06-12|\n",
            "| 0.3| 0.2| 1591992000000|     false|    PUT|     1700.0|SPXW_061220P1700|2020-06-12|\n",
            "|0.35|0.25| 1591992000000|     false|    PUT|     1750.0|SPXW_061220P1750|2020-06-12|\n",
            "| 0.4| 0.3| 1591992000000|     false|    PUT|     1800.0|SPXW_061220P1800|2020-06-12|\n",
            "|0.45| 0.4| 1591992000000|     false|    PUT|     1850.0|SPXW_061220P1850|2020-06-12|\n",
            "|0.55| 0.5| 1591992000000|     false|    PUT|     1900.0|SPXW_061220P1900|2020-06-12|\n",
            "| 0.7|0.65| 1591992000000|     false|    PUT|     1950.0|SPXW_061220P1950|2020-06-12|\n",
            "| 0.9| 0.8| 1591992000000|     false|    PUT|     2000.0|SPXW_061220P2000|2020-06-12|\n",
            "| 1.1| 1.0| 1591992000000|     false|    PUT|     2050.0|SPXW_061220P2050|2020-06-12|\n",
            "|1.25|1.15| 1591992000000|     false|    PUT|     2075.0|SPXW_061220P2075|2020-06-12|\n",
            "| 1.4|1.25| 1591992000000|     false|    PUT|     2100.0|SPXW_061220P2100|2020-06-12|\n",
            "|1.55| 1.4| 1591992000000|     false|    PUT|     2125.0|SPXW_061220P2125|2020-06-12|\n",
            "|1.75| 1.6| 1591992000000|     false|    PUT|     2150.0|SPXW_061220P2150|2020-06-12|\n",
            "+----+----+--------------+----------+-------+-----------+----------------+----------+\n",
            "only showing top 20 rows\n",
            "\n"
          ],
          "name": "stdout"
        }
      ]
    },
    {
      "cell_type": "markdown",
      "metadata": {
        "id": "cU83D4aFnFtt",
        "colab_type": "text"
      },
      "source": [
        "## Far Puts"
      ]
    },
    {
      "cell_type": "code",
      "metadata": {
        "id": "KA5eQALi_unB",
        "colab_type": "code",
        "colab": {}
      },
      "source": [
        "farPuts = from_json(reqJSON, putKey, farKey)"
      ],
      "execution_count": 0,
      "outputs": []
    },
    {
      "cell_type": "code",
      "metadata": {
        "id": "6szru4vE1OVX",
        "colab_type": "code",
        "colab": {
          "base_uri": "https://localhost:8080/",
          "height": 469
        },
        "outputId": "f12e8575-0815-41c5-b4ae-c8333ea395ca"
      },
      "source": [
        "farPuts.show()"
      ],
      "execution_count": 28,
      "outputs": [
        {
          "output_type": "stream",
          "text": [
            "+----+----+--------------+----------+-------+-----------+---------------+----------+\n",
            "| ask| bid|expirationDate|inTheMoney|putCall|strikePrice|         symbol|expiration|\n",
            "+----+----+--------------+----------+-------+-----------+---------------+----------+\n",
            "| 0.1|0.05| 1592596800000|     false|    PUT|      900.0| SPX_061920P900|2020-06-19|\n",
            "| 0.1|0.05| 1592596800000|     false|    PUT|     1000.0|SPX_061920P1000|2020-06-19|\n",
            "| 0.1|0.05| 1592596800000|     false|    PUT|     1100.0|SPX_061920P1100|2020-06-19|\n",
            "| 0.1|0.05| 1592596800000|     false|    PUT|     1150.0|SPX_061920P1150|2020-06-19|\n",
            "| 0.1|0.05| 1592596800000|     false|    PUT|     1200.0|SPX_061920P1200|2020-06-19|\n",
            "|0.15|0.05| 1592596800000|     false|    PUT|     1225.0|SPX_061920P1225|2020-06-19|\n",
            "|0.15|0.05| 1592596800000|     false|    PUT|     1250.0|SPX_061920P1250|2020-06-19|\n",
            "| 0.2|0.05| 1592596800000|     false|    PUT|     1275.0|SPX_061920P1275|2020-06-19|\n",
            "| 1.6| 1.5| 1592596800000|     false|    PUT|     2000.0|SPX_061920P2000|2020-06-19|\n",
            "| 1.7|1.55| 1592596800000|     false|    PUT|     2010.0|SPX_061920P2010|2020-06-19|\n",
            "|1.75| 1.6| 1592596800000|     false|    PUT|     2020.0|SPX_061920P2020|2020-06-19|\n",
            "| 1.8|1.65| 1592596800000|     false|    PUT|     2025.0|SPX_061920P2025|2020-06-19|\n",
            "| 1.8| 1.7| 1592596800000|     false|    PUT|     2030.0|SPX_061920P2030|2020-06-19|\n",
            "| 1.9|1.75| 1592596800000|     false|    PUT|     2040.0|SPX_061920P2040|2020-06-19|\n",
            "|1.95|1.85| 1592596800000|     false|    PUT|     2050.0|SPX_061920P2050|2020-06-19|\n",
            "|2.05| 1.9| 1592596800000|     false|    PUT|     2060.0|SPX_061920P2060|2020-06-19|\n",
            "| 2.1|1.95| 1592596800000|     false|    PUT|     2070.0|SPX_061920P2070|2020-06-19|\n",
            "|2.15| 2.0| 1592596800000|     false|    PUT|     2075.0|SPX_061920P2075|2020-06-19|\n",
            "| 2.2|2.05| 1592596800000|     false|    PUT|     2080.0|SPX_061920P2080|2020-06-19|\n",
            "|2.25|2.15| 1592596800000|     false|    PUT|     2090.0|SPX_061920P2090|2020-06-19|\n",
            "+----+----+--------------+----------+-------+-----------+---------------+----------+\n",
            "only showing top 20 rows\n",
            "\n"
          ],
          "name": "stdout"
        }
      ]
    },
    {
      "cell_type": "markdown",
      "metadata": {
        "colab_type": "text",
        "id": "H83ceGb0EcPd"
      },
      "source": [
        "# Near Calls"
      ]
    },
    {
      "cell_type": "code",
      "metadata": {
        "colab_type": "code",
        "id": "sLJoeegbEcP3",
        "colab": {}
      },
      "source": [
        "nearCalls = from_json(reqJSON, callKey, nearKey)"
      ],
      "execution_count": 0,
      "outputs": []
    },
    {
      "cell_type": "code",
      "metadata": {
        "id": "OS5_ZGLJ1Qmn",
        "colab_type": "code",
        "colab": {
          "base_uri": "https://localhost:8080/",
          "height": 469
        },
        "outputId": "76b89df4-c551-4906-8a78-db2fe535d8b9"
      },
      "source": [
        "nearCalls.show()"
      ],
      "execution_count": 30,
      "outputs": [
        {
          "output_type": "stream",
          "text": [
            "+------+------+--------------+----------+-------+-----------+----------------+----------+\n",
            "|   ask|   bid|expirationDate|inTheMoney|putCall|strikePrice|          symbol|expiration|\n",
            "+------+------+--------------+----------+-------+-----------+----------------+----------+\n",
            "|2455.7|2449.2| 1591992000000|      true|   CALL|      500.0| SPXW_061220C500|2020-06-12|\n",
            "|2355.7|2349.3| 1591992000000|      true|   CALL|      600.0| SPXW_061220C600|2020-06-12|\n",
            "|2255.4|2249.3| 1591992000000|      true|   CALL|      700.0| SPXW_061220C700|2020-06-12|\n",
            "|2155.8|2149.4| 1591992000000|      true|   CALL|      800.0| SPXW_061220C800|2020-06-12|\n",
            "|2055.4|2049.4| 1591992000000|      true|   CALL|      900.0| SPXW_061220C900|2020-06-12|\n",
            "|1955.9|1949.4| 1591992000000|      true|   CALL|     1000.0|SPXW_061220C1000|2020-06-12|\n",
            "|1905.9|1899.5| 1591992000000|      true|   CALL|     1050.0|SPXW_061220C1050|2020-06-12|\n",
            "|1855.9|1849.5| 1591992000000|      true|   CALL|     1100.0|SPXW_061220C1100|2020-06-12|\n",
            "|1805.6|1799.5| 1591992000000|      true|   CALL|     1150.0|SPXW_061220C1150|2020-06-12|\n",
            "|1756.0|1749.5| 1591992000000|      true|   CALL|     1200.0|SPXW_061220C1200|2020-06-12|\n",
            "|1706.0|1699.6| 1591992000000|      true|   CALL|     1250.0|SPXW_061220C1250|2020-06-12|\n",
            "|1656.0|1649.6| 1591992000000|      true|   CALL|     1300.0|SPXW_061220C1300|2020-06-12|\n",
            "|1605.7|1599.6| 1591992000000|      true|   CALL|     1350.0|SPXW_061220C1350|2020-06-12|\n",
            "|1556.1|1549.6| 1591992000000|      true|   CALL|     1400.0|SPXW_061220C1400|2020-06-12|\n",
            "|1506.1|1499.7| 1591992000000|      true|   CALL|     1450.0|SPXW_061220C1450|2020-06-12|\n",
            "|1455.7|1449.7| 1591992000000|      true|   CALL|     1500.0|SPXW_061220C1500|2020-06-12|\n",
            "|1406.2|1399.7| 1591992000000|      true|   CALL|     1550.0|SPXW_061220C1550|2020-06-12|\n",
            "|1356.2|1349.8| 1591992000000|      true|   CALL|     1600.0|SPXW_061220C1600|2020-06-12|\n",
            "|1306.3|1299.8| 1591992000000|      true|   CALL|     1650.0|SPXW_061220C1650|2020-06-12|\n",
            "|1256.3|1249.9| 1591992000000|      true|   CALL|     1700.0|SPXW_061220C1700|2020-06-12|\n",
            "+------+------+--------------+----------+-------+-----------+----------------+----------+\n",
            "only showing top 20 rows\n",
            "\n"
          ],
          "name": "stdout"
        }
      ]
    },
    {
      "cell_type": "markdown",
      "metadata": {
        "colab_type": "text",
        "id": "_7wi1fzcEcQA"
      },
      "source": [
        "## Far Calls"
      ]
    },
    {
      "cell_type": "code",
      "metadata": {
        "id": "Ww44ArqgRbjN",
        "colab_type": "code",
        "colab": {}
      },
      "source": [
        "farCalls = from_json(reqJSON, callKey, farKey)"
      ],
      "execution_count": 0,
      "outputs": []
    },
    {
      "cell_type": "code",
      "metadata": {
        "id": "PJUpckRK1Uan",
        "colab_type": "code",
        "colab": {
          "base_uri": "https://localhost:8080/",
          "height": 469
        },
        "outputId": "5a043402-7292-483e-ab56-51046e444051"
      },
      "source": [
        "farCalls.show()"
      ],
      "execution_count": 32,
      "outputs": [
        {
          "output_type": "stream",
          "text": [
            "+------+------+--------------+----------+-------+-----------+---------------+----------+\n",
            "|   ask|   bid|expirationDate|inTheMoney|putCall|strikePrice|         symbol|expiration|\n",
            "+------+------+--------------+----------+-------+-----------+---------------+----------+\n",
            "|2853.8|2850.9| 1592596800000|      true|   CALL|      100.0| SPX_061920C100|2020-06-19|\n",
            "|2753.8|2750.9| 1592596800000|      true|   CALL|      200.0| SPX_061920C200|2020-06-19|\n",
            "|2653.9|2651.0| 1592596800000|      true|   CALL|      300.0| SPX_061920C300|2020-06-19|\n",
            "|2553.9|2551.0| 1592596800000|      true|   CALL|      400.0| SPX_061920C400|2020-06-19|\n",
            "|2453.9|2451.1| 1592596800000|      true|   CALL|      500.0| SPX_061920C500|2020-06-19|\n",
            "|2353.9|2351.0| 1592596800000|      true|   CALL|      600.0| SPX_061920C600|2020-06-19|\n",
            "|2254.0|2251.1| 1592596800000|      true|   CALL|      700.0| SPX_061920C700|2020-06-19|\n",
            "|1953.9|1951.3| 1592596800000|      true|   CALL|     1000.0|SPX_061920C1000|2020-06-19|\n",
            "|1854.2|1851.3| 1592596800000|      true|   CALL|     1100.0|SPX_061920C1100|2020-06-19|\n",
            "|1804.2|1801.3| 1592596800000|      true|   CALL|     1150.0|SPX_061920C1150|2020-06-19|\n",
            "|1754.2|1751.4| 1592596800000|      true|   CALL|     1200.0|SPX_061920C1200|2020-06-19|\n",
            "|1729.2|1726.4| 1592596800000|      true|   CALL|     1225.0|SPX_061920C1225|2020-06-19|\n",
            "|1704.3|1701.4| 1592596800000|      true|   CALL|     1250.0|SPX_061920C1250|2020-06-19|\n",
            "|1679.3|1676.4| 1592596800000|      true|   CALL|     1275.0|SPX_061920C1275|2020-06-19|\n",
            "|1654.3|1651.4| 1592596800000|      true|   CALL|     1300.0|SPX_061920C1300|2020-06-19|\n",
            "|1629.3|1626.4| 1592596800000|      true|   CALL|     1325.0|SPX_061920C1325|2020-06-19|\n",
            "|1604.3|1601.5| 1592596800000|      true|   CALL|     1350.0|SPX_061920C1350|2020-06-19|\n",
            "|1579.3|1576.4| 1592596800000|      true|   CALL|     1375.0|SPX_061920C1375|2020-06-19|\n",
            "|1554.3|1551.4| 1592596800000|      true|   CALL|     1400.0|SPX_061920C1400|2020-06-19|\n",
            "|1529.3|1526.5| 1592596800000|      true|   CALL|     1425.0|SPX_061920C1425|2020-06-19|\n",
            "+------+------+--------------+----------+-------+-----------+---------------+----------+\n",
            "only showing top 20 rows\n",
            "\n"
          ],
          "name": "stdout"
        }
      ]
    }
  ]
}