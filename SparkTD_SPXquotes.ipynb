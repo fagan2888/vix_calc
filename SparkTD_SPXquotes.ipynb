{
  "nbformat": 4,
  "nbformat_minor": 0,
  "metadata": {
    "colab": {
      "name": "SparkTD-SPXquotes.ipynb",
      "provenance": [],
      "collapsed_sections": [],
      "include_colab_link": true
    },
    "kernelspec": {
      "display_name": "Python 3",
      "language": "python",
      "name": "python3"
    },
    "language_info": {
      "codemirror_mode": {
        "name": "ipython",
        "version": 3
      },
      "file_extension": ".py",
      "mimetype": "text/x-python",
      "name": "python",
      "nbconvert_exporter": "python",
      "pygments_lexer": "ipython3",
      "version": "3.7.6"
    }
  },
  "cells": [
    {
      "cell_type": "markdown",
      "metadata": {
        "id": "view-in-github",
        "colab_type": "text"
      },
      "source": [
        "<a href=\"https://colab.research.google.com/github/jus-tinian/vix_calc/blob/master/SparkTD_SPXquotes.ipynb\" target=\"_parent\"><img src=\"https://colab.research.google.com/assets/colab-badge.svg\" alt=\"Open In Colab\"/></a>"
      ]
    },
    {
      "cell_type": "markdown",
      "metadata": {
        "id": "u9ngGvuamOR3",
        "colab_type": "text"
      },
      "source": [
        "## Create Working Env"
      ]
    },
    {
      "cell_type": "code",
      "metadata": {
        "id": "zoXMSz9jf4Sv",
        "colab_type": "code",
        "colab": {}
      },
      "source": [
        "!apt-get install openjdk-8-jdk-headless -qq > /dev/null\n",
        "!wget -q https://www-eu.apache.org/dist/spark/spark-2.4.5/spark-2.4.5-bin-hadoop2.7.tgz\n",
        "!tar xf spark-2.4.5-bin-hadoop2.7.tgz"
      ],
      "execution_count": 0,
      "outputs": []
    },
    {
      "cell_type": "code",
      "metadata": {
        "id": "E3hhknoIf632",
        "colab_type": "code",
        "colab": {}
      },
      "source": [
        "import os\n",
        "os.environ[\"JAVA_HOME\"] = \"/usr/lib/jvm/java-8-openjdk-amd64\"\n",
        "os.environ[\"SPARK_HOME\"] = \"/content/spark-2.4.5-bin-hadoop2.7\""
      ],
      "execution_count": 0,
      "outputs": []
    },
    {
      "cell_type": "code",
      "metadata": {
        "id": "LEjbsSwFf9Hr",
        "colab_type": "code",
        "outputId": "608ef955-e953-4dcf-de58-ac925e1634ee",
        "colab": {
          "base_uri": "https://localhost:8080/",
          "height": 52
        }
      },
      "source": [
        "!pip install -q findspark\n",
        "!pip install pyspark"
      ],
      "execution_count": 3,
      "outputs": [
        {
          "output_type": "stream",
          "text": [
            "Requirement already satisfied: pyspark in /usr/local/lib/python3.6/dist-packages (2.4.5)\n",
            "Requirement already satisfied: py4j==0.10.7 in /usr/local/lib/python3.6/dist-packages (from pyspark) (0.10.7)\n"
          ],
          "name": "stdout"
        }
      ]
    },
    {
      "cell_type": "code",
      "metadata": {
        "id": "M9xuZZQYf-mN",
        "colab_type": "code",
        "outputId": "e2c7a1f1-a46a-47d2-a73b-10772f3d91b3",
        "colab": {
          "base_uri": "https://localhost:8080/",
          "height": 34
        }
      },
      "source": [
        "from google.colab import drive\n",
        "drive.mount('/content/gdrive')"
      ],
      "execution_count": 4,
      "outputs": [
        {
          "output_type": "stream",
          "text": [
            "Drive already mounted at /content/gdrive; to attempt to forcibly remount, call drive.mount(\"/content/gdrive\", force_remount=True).\n"
          ],
          "name": "stdout"
        }
      ]
    },
    {
      "cell_type": "markdown",
      "metadata": {
        "id": "jIFKuOkymkYj",
        "colab_type": "text"
      },
      "source": [
        "## Imports"
      ]
    },
    {
      "cell_type": "code",
      "metadata": {
        "colab_type": "code",
        "id": "bcOEBM6X0KbA",
        "colab": {}
      },
      "source": [
        "import requests\n",
        "import datetime\n",
        "\n",
        "import pyspark\n",
        "import pandas as pd\n",
        "\n",
        "from pyspark.sql import SparkSession\n",
        "\n",
        "from pyspark.sql.functions import udf\n",
        "from pyspark.sql.types import TimestampType, DateType"
      ],
      "execution_count": 0,
      "outputs": []
    },
    {
      "cell_type": "markdown",
      "metadata": {
        "id": "pnlcIWIGmn0t",
        "colab_type": "text"
      },
      "source": [
        "## Create Spark Session"
      ]
    },
    {
      "cell_type": "code",
      "metadata": {
        "id": "gTlXfqM1fruH",
        "colab_type": "code",
        "colab": {}
      },
      "source": [
        "APP_NAME = \"VIXcalc\"\n",
        "SPARK_URL = \"local[*]\""
      ],
      "execution_count": 0,
      "outputs": []
    },
    {
      "cell_type": "code",
      "metadata": {
        "id": "5VSC1JMrfruP",
        "colab_type": "code",
        "colab": {}
      },
      "source": [
        "spark = SparkSession.builder.master(SPARK_URL).appName(APP_NAME).getOrCreate()"
      ],
      "execution_count": 0,
      "outputs": []
    },
    {
      "cell_type": "code",
      "metadata": {
        "id": "g7iFLRfdgwi0",
        "colab_type": "code",
        "outputId": "9dadef68-ed45-4c52-c132-a9e3a8595964",
        "colab": {
          "base_uri": "https://localhost:8080/",
          "height": 219
        }
      },
      "source": [
        "spark"
      ],
      "execution_count": 8,
      "outputs": [
        {
          "output_type": "execute_result",
          "data": {
            "text/html": [
              "\n",
              "            <div>\n",
              "                <p><b>SparkSession - in-memory</b></p>\n",
              "                \n",
              "        <div>\n",
              "            <p><b>SparkContext</b></p>\n",
              "\n",
              "            <p><a href=\"http://23ae8a1ee00b:4040\">Spark UI</a></p>\n",
              "\n",
              "            <dl>\n",
              "              <dt>Version</dt>\n",
              "                <dd><code>v2.4.5</code></dd>\n",
              "              <dt>Master</dt>\n",
              "                <dd><code>local[*]</code></dd>\n",
              "              <dt>AppName</dt>\n",
              "                <dd><code>VIXcalc</code></dd>\n",
              "            </dl>\n",
              "        </div>\n",
              "        \n",
              "            </div>\n",
              "        "
            ],
            "text/plain": [
              "<pyspark.sql.session.SparkSession at 0x7fa4ed16c8d0>"
            ]
          },
          "metadata": {
            "tags": []
          },
          "execution_count": 8
        }
      ]
    },
    {
      "cell_type": "markdown",
      "metadata": {
        "id": "5AUrKrZnfruU",
        "colab_type": "text"
      },
      "source": [
        "## Make Dates"
      ]
    },
    {
      "cell_type": "code",
      "metadata": {
        "colab_type": "code",
        "id": "AXWMFUO9fkqJ",
        "colab": {}
      },
      "source": [
        "today = datetime.datetime.today().date()"
      ],
      "execution_count": 0,
      "outputs": []
    },
    {
      "cell_type": "code",
      "metadata": {
        "colab_type": "code",
        "id": "vNSBbVSJfuJd",
        "colab": {}
      },
      "source": [
        "farDate = today + datetime.timedelta(days=37)"
      ],
      "execution_count": 0,
      "outputs": []
    },
    {
      "cell_type": "code",
      "metadata": {
        "colab_type": "code",
        "id": "XJqzYRl5gFVQ",
        "colab": {}
      },
      "source": [
        "nearDate = today + datetime.timedelta(days=23)"
      ],
      "execution_count": 0,
      "outputs": []
    },
    {
      "cell_type": "markdown",
      "metadata": {
        "id": "2jaELOkul5Dl",
        "colab_type": "text"
      },
      "source": [
        "## Get API response"
      ]
    },
    {
      "cell_type": "code",
      "metadata": {
        "id": "KE4VgHsYfruk",
        "colab_type": "code",
        "colab": {}
      },
      "source": [
        "KEY = 'YOUR_KEY_HERE'"
      ],
      "execution_count": 0,
      "outputs": []
    },
    {
      "cell_type": "code",
      "metadata": {
        "colab_type": "code",
        "id": "BW9ECzPUxy6N",
        "colab": {}
      },
      "source": [
        "url = f\"https://api.tdameritrade.com/v1/marketdata/chains?apikey={KEY}&symbol=%24SPX.X&includeQuotes=TRUE&strategy=SINGLE&range=ALL&fromDate={str(nearDate)}&toDate={str(farDate)}\""
      ],
      "execution_count": 0,
      "outputs": []
    },
    {
      "cell_type": "code",
      "metadata": {
        "id": "cO_Z6H4Afrus",
        "colab_type": "code",
        "colab": {}
      },
      "source": [
        "req = requests.get(url)"
      ],
      "execution_count": 0,
      "outputs": []
    },
    {
      "cell_type": "code",
      "metadata": {
        "id": "maVj22rSfruw",
        "colab_type": "code",
        "colab": {}
      },
      "source": [
        "reqJSON = req.json()"
      ],
      "execution_count": 0,
      "outputs": []
    },
    {
      "cell_type": "markdown",
      "metadata": {
        "id": "iJbq4nVol9Gt",
        "colab_type": "text"
      },
      "source": [
        "## Set Keys to access reqJSON"
      ]
    },
    {
      "cell_type": "code",
      "metadata": {
        "id": "XH6Lv7ENfru0",
        "colab_type": "code",
        "colab": {}
      },
      "source": [
        "putKey = 'putExpDateMap'"
      ],
      "execution_count": 0,
      "outputs": []
    },
    {
      "cell_type": "code",
      "metadata": {
        "id": "8EvaQu2lfru5",
        "colab_type": "code",
        "colab": {}
      },
      "source": [
        "callKey = 'callExpDateMap'"
      ],
      "execution_count": 0,
      "outputs": []
    },
    {
      "cell_type": "code",
      "metadata": {
        "id": "LB6Hc7l6fru_",
        "colab_type": "code",
        "colab": {}
      },
      "source": [
        "dateKeys = [i for i in list(req.json()[putKey].keys()) if pd.to_datetime(i[:-3]).dayofweek == 4]"
      ],
      "execution_count": 0,
      "outputs": []
    },
    {
      "cell_type": "code",
      "metadata": {
        "id": "n50sBPCFfrvC",
        "colab_type": "code",
        "colab": {}
      },
      "source": [
        "nearKey = min(dateKeys)\n",
        "farKey = max(dateKeys)\n",
        "nearExpiration = datetime.datetime.strptime(nearKey[:-3], '%Y-%m-%d').date()\n",
        "farExpiration = datetime.datetime.strptime(farKey[:-3], '%Y-%m-%d').date()"
      ],
      "execution_count": 0,
      "outputs": []
    },
    {
      "cell_type": "markdown",
      "metadata": {
        "id": "73hxKztNmGbq",
        "colab_type": "text"
      },
      "source": [
        "## Set Interest Rate"
      ]
    },
    {
      "cell_type": "code",
      "metadata": {
        "id": "BbwnM3Xufru8",
        "colab_type": "code",
        "colab": {}
      },
      "source": [
        "RATE = reqJSON['interestRate']"
      ],
      "execution_count": 0,
      "outputs": []
    },
    {
      "cell_type": "markdown",
      "metadata": {
        "id": "c6uDg5wCmI-B",
        "colab_type": "text"
      },
      "source": [
        "## Set Columns to Keep"
      ]
    },
    {
      "cell_type": "code",
      "metadata": {
        "id": "qcu2wMbxfrvG",
        "colab_type": "code",
        "colab": {}
      },
      "source": [
        "minKeepCols = ['putCall', 'symbol', 'bid', 'ask', 'expirationDate', 'daysToExpiration', 'inTheMoney', 'strikePrice']"
      ],
      "execution_count": 0,
      "outputs": []
    },
    {
      "cell_type": "markdown",
      "metadata": {
        "id": "_x_5ZKU5lslK",
        "colab_type": "text"
      },
      "source": [
        "## UDFs"
      ]
    },
    {
      "cell_type": "code",
      "metadata": {
        "id": "T71bGTArbbRF",
        "colab_type": "code",
        "colab": {}
      },
      "source": [
        "convertEpochToDate = udf(lambda msEpoch: datetime.datetime.fromtimestamp(msEpoch/1000).date(), DateType())"
      ],
      "execution_count": 0,
      "outputs": []
    },
    {
      "cell_type": "code",
      "metadata": {
        "id": "j0dmQKk2Sgjh",
        "colab_type": "code",
        "colab": {}
      },
      "source": [
        "convertEpochToTimeStamp = udf(lambda msEpoch: datetime.datetime.fromtimestamp(msEpoch/1000), TimestampType())"
      ],
      "execution_count": 0,
      "outputs": []
    },
    {
      "cell_type": "markdown",
      "metadata": {
        "id": "g9dLeUtwCYXx",
        "colab_type": "text"
      },
      "source": [
        "## Prep Pipe"
      ]
    },
    {
      "cell_type": "code",
      "metadata": {
        "id": "MHWpz3Iu7jCP",
        "colab_type": "code",
        "colab": {}
      },
      "source": [
        "def prep_options(source_df, jsonObj, strikesList, sideKey, termKey, minKeepColsParam=minKeepCols):\n",
        "\n",
        "  for idx, val in enumerate(strikesList):\n",
        "\n",
        "      pdf = pd.DataFrame(jsonObj[sideKey][termKey][strikesList[idx]])[minKeepColsParam]\n",
        "\n",
        "      if pdf['bid'].to_numpy().all() != 0:\n",
        "        source_df = source_df.union(spark.createDataFrame(pdf))\n",
        "\n",
        "  source_df1 = source_df.where('bid != 0')\n",
        "\n",
        "  nonWeeklyCount = source_df1.filter(~source_df1.symbol.contains('W')).count()\n",
        "\n",
        "  if nonWeeklyCount != 0:\n",
        "    source_df1 = source_df1.filter(~source_df1.symbol.contains('W'))\n",
        "\n",
        "  source_df2 = source_df1.withColumn(\n",
        "      'expiration',\n",
        "      convertEpochToDate('expirationDate')).select(\n",
        "          'strikePrice',\n",
        "          'putCall',\n",
        "          'symbol',\n",
        "          'bid',\n",
        "          'ask',\n",
        "          'daysToExpiration',\n",
        "          'inTheMoney',\n",
        "          'expiration')\n",
        "      \n",
        "  return source_df2"
      ],
      "execution_count": 0,
      "outputs": []
    },
    {
      "cell_type": "markdown",
      "metadata": {
        "id": "z3X8yzoCfrvJ",
        "colab_type": "text"
      },
      "source": [
        "# Near Puts"
      ]
    },
    {
      "cell_type": "code",
      "metadata": {
        "id": "topwaKuIfrvK",
        "colab_type": "code",
        "colab": {}
      },
      "source": [
        "nearPutMinStrikeKey = list(reqJSON[putKey][nearKey].keys())[0]"
      ],
      "execution_count": 0,
      "outputs": []
    },
    {
      "cell_type": "code",
      "metadata": {
        "id": "w8CPLiyWfrvM",
        "colab_type": "code",
        "colab": {}
      },
      "source": [
        "nearPutStrikes = list(reqJSON[putKey][nearKey].keys())[1:]"
      ],
      "execution_count": 0,
      "outputs": []
    },
    {
      "cell_type": "code",
      "metadata": {
        "id": "BN9lCkLwfrvO",
        "colab_type": "code",
        "colab": {}
      },
      "source": [
        "rawNearPuts = spark.createDataFrame(pd.DataFrame(reqJSON[putKey][nearKey][nearPutMinStrikeKey])[minKeepCols])"
      ],
      "execution_count": 0,
      "outputs": []
    },
    {
      "cell_type": "code",
      "metadata": {
        "id": "Cd9Y8nXCsv5G",
        "colab_type": "code",
        "colab": {}
      },
      "source": [
        "nearPuts = prep_options(rawNearPuts, reqJSON, nearPutStrikes, putKey, nearKey)"
      ],
      "execution_count": 0,
      "outputs": []
    },
    {
      "cell_type": "code",
      "metadata": {
        "id": "FjvOtM6vDTnx",
        "colab_type": "code",
        "colab": {
          "base_uri": "https://localhost:8080/",
          "height": 208
        },
        "outputId": "1545606c-7056-482c-ff03-f5eb325135e9"
      },
      "source": [
        "nearPuts.show(5)"
      ],
      "execution_count": 36,
      "outputs": [
        {
          "output_type": "stream",
          "text": [
            "+-----------+-------+----------------+----+----+----------------+----------+----------+\n",
            "|strikePrice|putCall|          symbol| bid| ask|daysToExpiration|inTheMoney|expiration|\n",
            "+-----------+-------+----------------+----+----+----------------+----------+----------+\n",
            "|     1150.0|    PUT|SPXW_060520P1150|0.05| 0.1|              23|     false|2020-06-05|\n",
            "|     1200.0|    PUT|SPXW_060520P1200|0.05| 0.1|              23|     false|2020-06-05|\n",
            "|     1250.0|    PUT|SPXW_060520P1250|0.05|0.15|              23|     false|2020-06-05|\n",
            "|     1300.0|    PUT|SPXW_060520P1300|0.05| 0.2|              23|     false|2020-06-05|\n",
            "|     1350.0|    PUT|SPXW_060520P1350|0.05| 0.2|              23|     false|2020-06-05|\n",
            "+-----------+-------+----------------+----+----+----------------+----------+----------+\n",
            "only showing top 5 rows\n",
            "\n"
          ],
          "name": "stdout"
        }
      ]
    },
    {
      "cell_type": "markdown",
      "metadata": {
        "id": "cU83D4aFnFtt",
        "colab_type": "text"
      },
      "source": [
        "## Far Puts"
      ]
    },
    {
      "cell_type": "code",
      "metadata": {
        "colab_type": "code",
        "id": "9npc_R7tnDgm",
        "colab": {}
      },
      "source": [
        "farPutMinStrikeKey = list(reqJSON[putKey][farKey].keys())[0]"
      ],
      "execution_count": 0,
      "outputs": []
    },
    {
      "cell_type": "code",
      "metadata": {
        "colab_type": "code",
        "id": "WeOKMEUnnDgw",
        "colab": {}
      },
      "source": [
        "farPutStrikes = list(reqJSON[putKey][farKey].keys())[1:]"
      ],
      "execution_count": 0,
      "outputs": []
    },
    {
      "cell_type": "code",
      "metadata": {
        "colab_type": "code",
        "id": "Ppyj1acznDg_",
        "colab": {}
      },
      "source": [
        "rawFarPuts = spark.createDataFrame(pd.DataFrame(reqJSON[putKey][farKey][farPutMinStrikeKey])[minKeepCols])"
      ],
      "execution_count": 0,
      "outputs": []
    },
    {
      "cell_type": "code",
      "metadata": {
        "id": "KA5eQALi_unB",
        "colab_type": "code",
        "colab": {}
      },
      "source": [
        "farPuts = prep_options(rawFarPuts, reqJSON, farPutStrikes, putKey, farKey)"
      ],
      "execution_count": 0,
      "outputs": []
    },
    {
      "cell_type": "code",
      "metadata": {
        "id": "L0smKmbaBaSm",
        "colab_type": "code",
        "colab": {
          "base_uri": "https://localhost:8080/",
          "height": 208
        },
        "outputId": "740c4f4b-dd97-4d4d-8a02-4bfb61fffbc3"
      },
      "source": [
        "farPuts.show(5)"
      ],
      "execution_count": 35,
      "outputs": [
        {
          "output_type": "stream",
          "text": [
            "+-----------+-------+---------------+----+----+----------------+----------+----------+\n",
            "|strikePrice|putCall|         symbol| bid| ask|daysToExpiration|inTheMoney|expiration|\n",
            "+-----------+-------+---------------+----+----+----------------+----------+----------+\n",
            "|      900.0|    PUT| SPX_061920P900|0.05| 0.1|              37|     false|2020-06-19|\n",
            "|     1000.0|    PUT|SPX_061920P1000|0.05|0.15|              37|     false|2020-06-19|\n",
            "|     1100.0|    PUT|SPX_061920P1100| 0.1| 0.2|              37|     false|2020-06-19|\n",
            "|     1150.0|    PUT|SPX_061920P1150| 0.1| 0.2|              37|     false|2020-06-19|\n",
            "|     1200.0|    PUT|SPX_061920P1200|0.15|0.25|              37|     false|2020-06-19|\n",
            "+-----------+-------+---------------+----+----+----------------+----------+----------+\n",
            "only showing top 5 rows\n",
            "\n"
          ],
          "name": "stdout"
        }
      ]
    },
    {
      "cell_type": "markdown",
      "metadata": {
        "colab_type": "text",
        "id": "H83ceGb0EcPd"
      },
      "source": [
        "# Near Calls"
      ]
    },
    {
      "cell_type": "code",
      "metadata": {
        "colab_type": "code",
        "id": "eqUyMl40EcPe",
        "colab": {}
      },
      "source": [
        "nearCallMinStrikeKey = list(reqJSON[callKey][nearKey].keys())[0]"
      ],
      "execution_count": 0,
      "outputs": []
    },
    {
      "cell_type": "code",
      "metadata": {
        "colab_type": "code",
        "id": "-MYAaW4wEcPr",
        "colab": {}
      },
      "source": [
        "nearCallStrikes = list(reqJSON[callKey][nearKey].keys())[1:]"
      ],
      "execution_count": 0,
      "outputs": []
    },
    {
      "cell_type": "code",
      "metadata": {
        "colab_type": "code",
        "id": "AYSgYNj0EcPy",
        "colab": {}
      },
      "source": [
        "rawNearCalls = spark.createDataFrame(pd.DataFrame(reqJSON[callKey][nearKey][nearCallMinStrikeKey])[minKeepCols])"
      ],
      "execution_count": 0,
      "outputs": []
    },
    {
      "cell_type": "code",
      "metadata": {
        "colab_type": "code",
        "id": "sLJoeegbEcP3",
        "colab": {}
      },
      "source": [
        "nearCalls = prep_options(rawNearCalls, reqJSON, nearCallStrikes, callKey, nearKey)"
      ],
      "execution_count": 0,
      "outputs": []
    },
    {
      "cell_type": "code",
      "metadata": {
        "colab_type": "code",
        "outputId": "cd9b3819-223d-4225-f89c-184b6040d8d6",
        "id": "_jGyNk9UEcP7",
        "colab": {
          "base_uri": "https://localhost:8080/",
          "height": 208
        }
      },
      "source": [
        "nearCalls.show(5)"
      ],
      "execution_count": 41,
      "outputs": [
        {
          "output_type": "stream",
          "text": [
            "+-----------+-------+---------------+------+------+----------------+----------+----------+\n",
            "|strikePrice|putCall|         symbol|   bid|   ask|daysToExpiration|inTheMoney|expiration|\n",
            "+-----------+-------+---------------+------+------+----------------+----------+----------+\n",
            "|      500.0|   CALL|SPXW_060520C500|2311.6|2317.7|              23|      true|2020-06-05|\n",
            "|      600.0|   CALL|SPXW_060520C600|2211.5|2217.8|              23|      true|2020-06-05|\n",
            "|      700.0|   CALL|SPXW_060520C700|2111.7|2117.8|              23|      true|2020-06-05|\n",
            "|      800.0|   CALL|SPXW_060520C800|2011.6|2017.8|              23|      true|2020-06-05|\n",
            "|      900.0|   CALL|SPXW_060520C900|1911.8|1917.9|              23|      true|2020-06-05|\n",
            "+-----------+-------+---------------+------+------+----------------+----------+----------+\n",
            "only showing top 5 rows\n",
            "\n"
          ],
          "name": "stdout"
        }
      ]
    },
    {
      "cell_type": "markdown",
      "metadata": {
        "colab_type": "text",
        "id": "_7wi1fzcEcQA"
      },
      "source": [
        "## Far Calls"
      ]
    },
    {
      "cell_type": "code",
      "metadata": {
        "colab_type": "code",
        "id": "p_4aCfrpEcQB",
        "colab": {}
      },
      "source": [
        "farCallMinStrikeKey = list(reqJSON[callKey][farKey].keys())[0]"
      ],
      "execution_count": 0,
      "outputs": []
    },
    {
      "cell_type": "code",
      "metadata": {
        "colab_type": "code",
        "id": "1mfTZwcKEcQG",
        "colab": {}
      },
      "source": [
        "farCallStrikes = list(reqJSON[callKey][farKey].keys())[1:]"
      ],
      "execution_count": 0,
      "outputs": []
    },
    {
      "cell_type": "code",
      "metadata": {
        "colab_type": "code",
        "id": "EqF0_jlkEcQL",
        "colab": {}
      },
      "source": [
        "rawFarCalls = spark.createDataFrame(pd.DataFrame(reqJSON[callKey][farKey][farCallMinStrikeKey])[minKeepCols])"
      ],
      "execution_count": 0,
      "outputs": []
    },
    {
      "cell_type": "code",
      "metadata": {
        "colab_type": "code",
        "id": "orIciNoiEcQO",
        "colab": {}
      },
      "source": [
        "farCalls = prep_options(rawFarCalls, reqJSON, farCallStrikes, callKey, farKey)"
      ],
      "execution_count": 0,
      "outputs": []
    },
    {
      "cell_type": "code",
      "metadata": {
        "colab_type": "code",
        "outputId": "22bcce11-15aa-4104-bf1b-efbcf91a36d9",
        "id": "lBlsxD88EcQS",
        "colab": {
          "base_uri": "https://localhost:8080/",
          "height": 208
        }
      },
      "source": [
        "farCalls.show(5)"
      ],
      "execution_count": 46,
      "outputs": [
        {
          "output_type": "stream",
          "text": [
            "+-----------+-------+--------------+------+------+----------------+----------+----------+\n",
            "|strikePrice|putCall|        symbol|   bid|   ask|daysToExpiration|inTheMoney|expiration|\n",
            "+-----------+-------+--------------+------+------+----------------+----------+----------+\n",
            "|      100.0|   CALL|SPX_061920C100|2706.7|2718.0|              37|      true|2020-06-19|\n",
            "|      200.0|   CALL|SPX_061920C200|2606.8|2618.0|              37|      true|2020-06-19|\n",
            "|      300.0|   CALL|SPX_061920C300|2506.7|2518.0|              37|      true|2020-06-19|\n",
            "|      400.0|   CALL|SPX_061920C400|2406.8|2418.1|              37|      true|2020-06-19|\n",
            "|      500.0|   CALL|SPX_061920C500|2306.8|2318.1|              37|      true|2020-06-19|\n",
            "+-----------+-------+--------------+------+------+----------------+----------+----------+\n",
            "only showing top 5 rows\n",
            "\n"
          ],
          "name": "stdout"
        }
      ]
    }
  ]
}