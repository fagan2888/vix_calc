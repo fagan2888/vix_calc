{
 "cells": [
  {
   "cell_type": "code",
   "execution_count": 1,
   "metadata": {},
   "outputs": [],
   "source": [
    "import pandas as pd\n",
    "import numpy as np\n",
    "import datetime as dt"
   ]
  },
  {
   "cell_type": "code",
   "execution_count": 2,
   "metadata": {},
   "outputs": [],
   "source": [
    "data = pd.read_csv(\"quotedata.dat\", skiprows=2)"
   ]
  },
  {
   "cell_type": "markdown",
   "metadata": {},
   "source": [
    "#### Set Rate "
   ]
  },
  {
   "cell_type": "code",
   "execution_count": 3,
   "metadata": {},
   "outputs": [],
   "source": [
    "from bs4 import BeautifulSoup as bs4\n",
    "import requests"
   ]
  },
  {
   "cell_type": "code",
   "execution_count": 4,
   "metadata": {},
   "outputs": [],
   "source": [
    "url = 'https://www.treasury.gov/resource-center/data-chart-center/interest-rates/Pages/TextView.aspx?data=yield'\n",
    "req = requests.get(url)\n",
    "soup = bs4(req.text)"
   ]
  },
  {
   "cell_type": "code",
   "execution_count": 5,
   "metadata": {},
   "outputs": [],
   "source": [
    "# the one month t-bill rate\n",
    "RATE = float(list(soup.find('tr', attrs=({'class':\"oddrow\"})))[1].text) / 100"
   ]
  },
  {
   "cell_type": "markdown",
   "metadata": {},
   "source": [
    "#### Set time-NOW. Leave as '2020-03-23 16:00:00.000000' for proof of concept"
   ]
  },
  {
   "cell_type": "code",
   "execution_count": 6,
   "metadata": {},
   "outputs": [],
   "source": [
    "# set time-NOW\n",
    "# NOW = dt.datetime.NOW()\n",
    "NOW = pd.to_datetime('2020-03-23 16:00:00.000000')"
   ]
  },
  {
   "cell_type": "code",
   "execution_count": 7,
   "metadata": {},
   "outputs": [],
   "source": [
    "# set nearest date limit\n",
    "near_date = NOW + dt.timedelta(days=23)"
   ]
  },
  {
   "cell_type": "code",
   "execution_count": 8,
   "metadata": {},
   "outputs": [],
   "source": [
    "# set farthest date limit\n",
    "next_date = NOW + dt.timedelta(days=37)"
   ]
  },
  {
   "cell_type": "code",
   "execution_count": 9,
   "metadata": {},
   "outputs": [],
   "source": [
    "# set minutes in year\n",
    "MINUTES_IN_YEAR = 525600\n",
    "MINUTES_IN_DAY = 24 * 60"
   ]
  },
  {
   "cell_type": "code",
   "execution_count": 10,
   "metadata": {},
   "outputs": [],
   "source": [
    "def filter_quotes(input_data):\n",
    "    \n",
    "    # select columns\n",
    "    input_data = input_data[['Expiration Date', 'Strike', 'Calls', 'Bid', 'Ask', 'Puts', 'Bid.1', 'Ask.1']]\n",
    "    # filter to between near and next data\n",
    "    input_data = input_data.loc[(pd.to_datetime(input_data['Expiration Date']) > near_date) & (pd.to_datetime(input_data['Expiration Date']) < next_date)]\n",
    "    # convert expiration date column to datetime\n",
    "    input_data['Expiration Date'] = pd.to_datetime(input_data['Expiration Date']).values\n",
    "    # select only friday expiries\n",
    "    input_data = input_data.loc[pd.DatetimeIndex(input_data['Expiration Date']).weekday == 4]\n",
    "    \n",
    "    return input_data"
   ]
  },
  {
   "cell_type": "code",
   "execution_count": 11,
   "metadata": {},
   "outputs": [],
   "source": [
    "def filter_non_zero_bids(input_data):\n",
    "    return input_data.loc[(input_data['Bid'] != 0) & (input_data['Bid.1'] != 0)]"
   ]
  },
  {
   "cell_type": "code",
   "execution_count": 12,
   "metadata": {},
   "outputs": [],
   "source": [
    "def set_datetime(input_data):\n",
    "    \n",
    "    '''had to create new datetime column to replace use of Expiration Date'''\n",
    "    \n",
    "    # set time for weekly expiries\n",
    "    input_data['ExpDT'] = input_data.loc[input_data.Calls.str.contains('W')]['Expiration Date'] + dt.timedelta(hours=16)\n",
    "    # set time for standard expiries\n",
    "    input_data.loc[input_data.ExpDT.isna(), 'ExpDT'] = input_data.loc[input_data.ExpDT.isna()]['Expiration Date'] + dt.timedelta(hours=9.5)\n",
    "    \n",
    "    return input_data"
   ]
  },
  {
   "cell_type": "code",
   "execution_count": 13,
   "metadata": {},
   "outputs": [],
   "source": [
    "def set_minutes_remaining(input_data, MINUTES_IN_YEAR):\n",
    "    \n",
    "    # set big T to expiration in minutes ... input_data.ExpDT - NOW returns datetime[ns]\n",
    "    input_data['TTE'] = (((input_data.ExpDT - NOW) / pd.np.timedelta64(1, 'm')) / MINUTES_IN_YEAR).values\n",
    "    \n",
    "    return input_data"
   ]
  },
  {
   "cell_type": "code",
   "execution_count": 14,
   "metadata": {},
   "outputs": [],
   "source": [
    "def set_midpoint(input_data):\n",
    "    \n",
    "    input_data['calls_midpoint'] = (input_data['Ask'] + input_data['Bid']) / 2\n",
    "    input_data['puts_midpoint'] = (input_data['Ask.1'] + input_data['Bid.1']) / 2\n",
    "    input_data['difference'] = abs(input_data['calls_midpoint'] - input_data['puts_midpoint'])\n",
    "    \n",
    "    return input_data"
   ]
  },
  {
   "cell_type": "code",
   "execution_count": 15,
   "metadata": {},
   "outputs": [],
   "source": [
    "def split_near_next(input_data):\n",
    "    \n",
    "    data = input_data.copy()\n",
    "    data = data.set_index('Expiration Date')\n",
    "    #  get unique dates, will sort correctly\n",
    "    dates = [str(i.date()) for i in data.index.unique()]\n",
    "    #  set nearest date\n",
    "    near = data.loc[data.index == dates[0]]\n",
    "    # set next date\n",
    "    nxt = data.loc[data.index == dates[1]]\n",
    "    \n",
    "    return nxt.reset_index(), near.reset_index()"
   ]
  },
  {
   "cell_type": "code",
   "execution_count": 16,
   "metadata": {},
   "outputs": [],
   "source": [
    "def set_F(input_data, RATE):\n",
    "    \n",
    "    strike = input_data.loc[input_data.index == (input_data.loc[input_data.difference == input_data.difference.min()].index[0])]['Strike']\n",
    "    call = input_data.loc[input_data.index == (input_data.loc[input_data.difference == input_data.difference.min()].index[0])]['calls_midpoint']\n",
    "    put = input_data.loc[input_data.index == (input_data.loc[input_data.difference == input_data.difference.min()].index[0])]['puts_midpoint']\n",
    "    tte = input_data.loc[input_data.index == (input_data.loc[input_data.difference == input_data.difference.min()].index[0])]['TTE']\n",
    "    _F = strike + np.exp(tte * RATE) * (call - put)\n",
    "    \n",
    "    return _F.values[0]"
   ]
  },
  {
   "cell_type": "code",
   "execution_count": 17,
   "metadata": {},
   "outputs": [],
   "source": [
    "def set_K0(input_data, F):\n",
    "    \n",
    "    _k0 = input_data.loc[input_data.Strike < F].iloc[-1]['Strike']\n",
    "    \n",
    "    return _k0"
   ]
  },
  {
   "cell_type": "code",
   "execution_count": 18,
   "metadata": {},
   "outputs": [],
   "source": [
    "def set_deltaK(input_data):\n",
    "    return ((input_data.Strike.shift(-1) - input_data.Strike.shift(1)) / 2).values"
   ]
  },
  {
   "cell_type": "code",
   "execution_count": 19,
   "metadata": {},
   "outputs": [],
   "source": [
    "def set_Ki_squared(input_data):\n",
    "    return (input_data.Strike ** 2).values"
   ]
  },
  {
   "cell_type": "code",
   "execution_count": 20,
   "metadata": {},
   "outputs": [],
   "source": [
    "def set_deltaK_dividedby_KiSqrd(input_data):\n",
    "    return (input_data.deltaK / input_data.Ki_sqrd).values"
   ]
  },
  {
   "cell_type": "code",
   "execution_count": 21,
   "metadata": {},
   "outputs": [],
   "source": [
    "def set_eRT(input_data, RATE):\n",
    "    return np.exp(input_data.TTE.values * RATE)"
   ]
  },
  {
   "cell_type": "code",
   "execution_count": 22,
   "metadata": {},
   "outputs": [],
   "source": [
    "def set_QKi(input_data, some_strike_K0):\n",
    "    \n",
    "    # create single midpoint column, assigning calls midpoint immediately\n",
    "    input_data['midpoint'] = (input_data.Strike >= some_strike_K0) * input_data.calls_midpoint\n",
    "    # assign puts midpoint\n",
    "    input_data.loc[input_data.Strike < some_strike_K0 , 'midpoint'] = input_data.loc[input_data.Strike < some_strike_K0]['puts_midpoint'].values\n",
    "    # average the call and put midpoint for K0\n",
    "    input_data.loc[input_data.Strike == some_strike_K0 , 'midpoint'] = np.mean(input_data.loc[input_data.Strike == some_strike_K0]['puts_midpoint'].values + input_data.loc[input_data.Strike == some_strike_K0]['calls_midpoint'].values)\n",
    "    \n",
    "    return input_data"
   ]
  },
  {
   "cell_type": "code",
   "execution_count": 23,
   "metadata": {},
   "outputs": [],
   "source": [
    "def prepare_quotes(input_data, RATE, MINUTES_IN_YEAR):\n",
    "    \n",
    "    #  filter for near & next, friday expiries, non-zero bids\n",
    "    mod = filter_quotes(input_data)\n",
    "    #  create new expiration date column to display time\n",
    "    mod = set_datetime(mod)\n",
    "    #  create time to expiry in minutes\n",
    "    mod = set_minutes_remaining(mod, MINUTES_IN_YEAR)\n",
    "    #  set index\n",
    "    mod = mod.reset_index()\n",
    "    mod = mod.drop('index', axis=1)\n",
    "    #  get midpoint\n",
    "    mod = set_midpoint(mod)\n",
    "    \n",
    "    #  split\n",
    "    nxt, near = split_near_next(mod)\n",
    "    #  F Forward index level derived from index option prices of near\n",
    "    F1 = set_F(near, RATE)\n",
    "    #  F Forward index level derived from index option prices of next\n",
    "    F2 = set_F(nxt, RATE)\n",
    "    \n",
    "    # Set K0 for next\n",
    "    nxt_K0 = set_K0(nxt, F2)\n",
    "    # set K0 for near\n",
    "    near_K0 = set_K0(near, F1)\n",
    "    \n",
    "    # set Q(K_i) for near\n",
    "    near = set_QKi(near, near_K0)\n",
    "    # set Q(K_i) for next\n",
    "    nxt = set_QKi(nxt, nxt_K0)\n",
    "    \n",
    "    # set delta K for near\n",
    "    near['deltaK'] = set_deltaK(near)\n",
    "    # set delta K for next\n",
    "    nxt['deltaK'] = set_deltaK(nxt)\n",
    "    \n",
    "    # set K_i ** 2 for near\n",
    "    near['Ki_sqrd'] = set_Ki_squared(near)\n",
    "    # set K_i ** 2 for next\n",
    "    nxt['Ki_sqrd'] = set_Ki_squared(nxt)\n",
    "    \n",
    "    # set deltaK / Ki^2 for near\n",
    "    near['delK_div_KiSqrd'] = set_deltaK_dividedby_KiSqrd(near)\n",
    "    # set deltaK / Ki^2 for next\n",
    "    nxt['delK_div_KiSqrd'] = set_deltaK_dividedby_KiSqrd(nxt)\n",
    "    \n",
    "    # e^rt for near\n",
    "    near['eRT'] = set_eRT(near, RATE)\n",
    "    # e^rt for next\n",
    "    nxt['eRT'] = set_eRT(nxt, RATE)\n",
    "    \n",
    "    # filter non zero bids\n",
    "    nxt = filter_non_zero_bids(nxt)\n",
    "    near = filter_non_zero_bids(near)\n",
    "    \n",
    "    return nxt, near"
   ]
  },
  {
   "cell_type": "code",
   "execution_count": 24,
   "metadata": {},
   "outputs": [],
   "source": [
    "def set_d1(input_data):\n",
    "    return ((2/input_data.TTE.values[0]) * np.sum(input_data.delK_div_KiSqrd * input_data.eRT * input_data.midpoint))"
   ]
  },
  {
   "cell_type": "code",
   "execution_count": 25,
   "metadata": {},
   "outputs": [],
   "source": [
    "def set_d2(input_data, F, K0):\n",
    "    return ((1/input_data.TTE.values[0]) * ((F / K0)  - 1) ** 2)"
   ]
  },
  {
   "cell_type": "code",
   "execution_count": 26,
   "metadata": {},
   "outputs": [],
   "source": [
    "def set_sigma(d1, d2):\n",
    "    return d1 - d2"
   ]
  },
  {
   "cell_type": "code",
   "execution_count": 27,
   "metadata": {},
   "outputs": [],
   "source": [
    "def calc_sigma(input_data, RATE):\n",
    "    \n",
    "    _F = set_F(input_data, RATE)\n",
    "    _K0 = set_K0(input_data, _F)\n",
    "    _d1 = set_d1(input_data)\n",
    "    _d2 = set_d2(input_data, _F, _K0)\n",
    "    sigma = set_sigma(_d1, _d2)\n",
    "    \n",
    "    return sigma"
   ]
  },
  {
   "cell_type": "code",
   "execution_count": 28,
   "metadata": {},
   "outputs": [],
   "source": [
    "def calc_vix(input_data_from_dat_file, RATE, NOW, MINUTES_IN_YEAR):\n",
    "    \n",
    "    nxt, near = prepare_quotes(data, RATE, MINUTES_IN_YEAR)\n",
    "    \n",
    "    nxt_sigma = calc_sigma(nxt, RATE)\n",
    "    \n",
    "    near_sigma = calc_sigma(near, RATE)\n",
    "    \n",
    "    # set t1\n",
    "    t1 = near.TTE.iloc[0]\n",
    "    # set t2\n",
    "    t2 = nxt.TTE.iloc[0]\n",
    "    # number of minutes in year\n",
    "    n365 = MINUTES_IN_YEAR\n",
    "    # number of minutes in 30 days\n",
    "    n30 = 43200\n",
    "    # number of minutes till settlement for near\n",
    "    nt1 = (nxt.ExpDT.iloc[0] - NOW).total_seconds() / 60\n",
    "    # number of minutes till settlement for next\n",
    "    nt2 = (near.ExpDT.iloc[0] - NOW).total_seconds() / 60\n",
    "    \n",
    "    near_weight = t1 * near_sigma * ((nt2 - n30) / (nt2 - nt1))\n",
    "    next_weight = t2 * nxt_sigma * ((n30 - nt1) / (nt2 - nt1))\n",
    "    weighted_values = (near_weight + next_weight) * (n365/n30)\n",
    "    \n",
    "    vix = 100 * np.sqrt(weighted_values)\n",
    "    \n",
    "    return vix"
   ]
  },
  {
   "cell_type": "code",
   "execution_count": 29,
   "metadata": {},
   "outputs": [
    {
     "data": {
      "text/plain": [
       "66.64653488886552"
      ]
     },
     "execution_count": 29,
     "metadata": {},
     "output_type": "execute_result"
    }
   ],
   "source": [
    "calc_vix(data, RATE, NOW, MINUTES_IN_YEAR)"
   ]
  }
 ],
 "metadata": {
  "kernelspec": {
   "display_name": "Python 3",
   "language": "python",
   "name": "python3"
  },
  "language_info": {
   "codemirror_mode": {
    "name": "ipython",
    "version": 3
   },
   "file_extension": ".py",
   "mimetype": "text/x-python",
   "name": "python",
   "nbconvert_exporter": "python",
   "pygments_lexer": "ipython3",
   "version": "3.7.6"
  }
 },
 "nbformat": 4,
 "nbformat_minor": 4
}
